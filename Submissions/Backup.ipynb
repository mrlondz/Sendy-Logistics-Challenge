{
 "cells": [
  {
   "cell_type": "markdown",
   "metadata": {},
   "source": [
    "# EDSA: Sendy Logistics Challenge by EXPLORE Data Science Academy"
   ]
  },
  {
   "cell_type": "markdown",
   "metadata": {},
   "source": [
    "## Introduction"
   ]
  },
  {
   "cell_type": "markdown",
   "metadata": {},
   "source": [
    "### Sendy, in partnership with insight2impact facility, is hosting a Zindi challenge to predict the estimated time of delivery of orders, from the point of driver pickup to the point of arrival at final destination.\n",
    "\n",
    "- The solution will help Sendy enhance customer communication and improve the reliability of its service; which will ultimately improve customer experience. In addition, the solution will enable Sendy to realise cost savings, and ultimately reduce the cost of doing business, through improved resource management and planning for order scheduling.\n",
    "\n",
    "- Sendy helps men and women behind every type of business to trade easily, deliver more competitively, and build extraordinary businesses.\n",
    "\n",
    "- Sendy is a business-to-business platform established in 2014, to enable businesses of all types and sizes to transport goods more efficiently across East Africa.\n",
    "\n",
    "- The company is headquartered in Kenya with a team of more than 100 staff, focused on building practical solutions for Africa’s dynamic transportation needs, from developing apps and web solutions, to providing dedicated support for goods on the move.\n",
    "\n",
    "- Currently operating in Kenya and Uganda, Sendy is expanding to Nigeria and Tanzania, to enable thousands more businesses to move volumes of goods easily, anywhere, at any time. Sendy aggregates a pool of delivery options from 28 ton, 14 ton, 5 ton trucks to pick up trucks, vans and motorcycles."
   ]
  },
  {
   "cell_type": "markdown",
   "metadata": {},
   "source": [
    "## Objectives\n",
    "\n",
    "- Build regression model predict the estimated time of delivery of orders, from the point of driver pickup to the point of arrival at final destination\n",
    "- The error metric for this competition is the Root Mean Squared Error"
   ]
  },
  {
   "cell_type": "markdown",
   "metadata": {},
   "source": [
    "### Contents\n",
    "\n",
    "- Import Libraries\n",
    "- Import Data\n",
    "- Understand the Data\n",
    "- Preprocessing\n",
    "- Feature Engineering\n",
    "- One Hot Encoding\n",
    "- Modelling\n",
    "- Model Analysis\n",
    "- Final Prediction "
   ]
  },
  {
   "cell_type": "markdown",
   "metadata": {},
   "source": [
    "## 1. Import Libraries"
   ]
  },
  {
   "cell_type": "code",
   "execution_count": 1,
   "metadata": {},
   "outputs": [],
   "source": [
    "import pandas as pd # Data Frame manipulation\n",
    "import numpy as np # Array manipulation\n",
    "import datetime as dt # Date Time columns manipulation\n",
    "import string \n",
    "import matplotlib.pyplot as plt\n",
    "\n",
    "from sklearn.ensemble import RandomForestRegressor # Model of choice\n",
    "from sklearn.model_selection import train_test_split # Train my model on a validation set first\n",
    "from sklearn.metrics import mean_squared_error # Metric of evaluation for project"
   ]
  },
  {
   "cell_type": "markdown",
   "metadata": {},
   "source": [
    "## 2. Import the data"
   ]
  },
  {
   "cell_type": "code",
   "execution_count": 4,
   "metadata": {},
   "outputs": [
    {
     "ename": "FileNotFoundError",
     "evalue": "[Errno 2] File b'Test.csv' does not exist: b'Test.csv'",
     "output_type": "error",
     "traceback": [
      "\u001b[1;31m---------------------------------------------------------------------------\u001b[0m",
      "\u001b[1;31mFileNotFoundError\u001b[0m                         Traceback (most recent call last)",
      "\u001b[1;32m<ipython-input-4-7b5b4630c635>\u001b[0m in \u001b[0;36m<module>\u001b[1;34m\u001b[0m\n\u001b[1;32m----> 1\u001b[1;33m \u001b[0mdf_test\u001b[0m \u001b[1;33m=\u001b[0m \u001b[0mpd\u001b[0m\u001b[1;33m.\u001b[0m\u001b[0mread_csv\u001b[0m\u001b[1;33m(\u001b[0m\u001b[1;34m\"Test.csv\"\u001b[0m\u001b[1;33m)\u001b[0m \u001b[1;31m# Final set to test model and submit on\u001b[0m\u001b[1;33m\u001b[0m\u001b[1;33m\u001b[0m\u001b[0m\n\u001b[0m\u001b[0;32m      2\u001b[0m \u001b[1;33m\u001b[0m\u001b[0m\n\u001b[0;32m      3\u001b[0m \u001b[0mdf_train\u001b[0m \u001b[1;33m=\u001b[0m \u001b[0mpd\u001b[0m\u001b[1;33m.\u001b[0m\u001b[0mread_csv\u001b[0m\u001b[1;33m(\u001b[0m\u001b[1;34m\"Train.csv\"\u001b[0m\u001b[1;33m)\u001b[0m \u001b[1;31m# Data to train model on\u001b[0m\u001b[1;33m\u001b[0m\u001b[1;33m\u001b[0m\u001b[0m\n\u001b[0;32m      4\u001b[0m \u001b[0mdf_train\u001b[0m\u001b[1;33m.\u001b[0m\u001b[0mdrop_duplicates\u001b[0m\u001b[1;33m(\u001b[0m\u001b[0minplace\u001b[0m\u001b[1;33m=\u001b[0m\u001b[1;32mTrue\u001b[0m\u001b[1;33m)\u001b[0m \u001b[1;31m# Remove Duplicate Rows\u001b[0m\u001b[1;33m\u001b[0m\u001b[1;33m\u001b[0m\u001b[0m\n\u001b[0;32m      5\u001b[0m \u001b[1;33m\u001b[0m\u001b[0m\n",
      "\u001b[1;32m~\\AppData\\Local\\Continuum\\anaconda3\\lib\\site-packages\\pandas\\io\\parsers.py\u001b[0m in \u001b[0;36mparser_f\u001b[1;34m(filepath_or_buffer, sep, delimiter, header, names, index_col, usecols, squeeze, prefix, mangle_dupe_cols, dtype, engine, converters, true_values, false_values, skipinitialspace, skiprows, skipfooter, nrows, na_values, keep_default_na, na_filter, verbose, skip_blank_lines, parse_dates, infer_datetime_format, keep_date_col, date_parser, dayfirst, cache_dates, iterator, chunksize, compression, thousands, decimal, lineterminator, quotechar, quoting, doublequote, escapechar, comment, encoding, dialect, error_bad_lines, warn_bad_lines, delim_whitespace, low_memory, memory_map, float_precision)\u001b[0m\n\u001b[0;32m    683\u001b[0m         )\n\u001b[0;32m    684\u001b[0m \u001b[1;33m\u001b[0m\u001b[0m\n\u001b[1;32m--> 685\u001b[1;33m         \u001b[1;32mreturn\u001b[0m \u001b[0m_read\u001b[0m\u001b[1;33m(\u001b[0m\u001b[0mfilepath_or_buffer\u001b[0m\u001b[1;33m,\u001b[0m \u001b[0mkwds\u001b[0m\u001b[1;33m)\u001b[0m\u001b[1;33m\u001b[0m\u001b[1;33m\u001b[0m\u001b[0m\n\u001b[0m\u001b[0;32m    686\u001b[0m \u001b[1;33m\u001b[0m\u001b[0m\n\u001b[0;32m    687\u001b[0m     \u001b[0mparser_f\u001b[0m\u001b[1;33m.\u001b[0m\u001b[0m__name__\u001b[0m \u001b[1;33m=\u001b[0m \u001b[0mname\u001b[0m\u001b[1;33m\u001b[0m\u001b[1;33m\u001b[0m\u001b[0m\n",
      "\u001b[1;32m~\\AppData\\Local\\Continuum\\anaconda3\\lib\\site-packages\\pandas\\io\\parsers.py\u001b[0m in \u001b[0;36m_read\u001b[1;34m(filepath_or_buffer, kwds)\u001b[0m\n\u001b[0;32m    455\u001b[0m \u001b[1;33m\u001b[0m\u001b[0m\n\u001b[0;32m    456\u001b[0m     \u001b[1;31m# Create the parser.\u001b[0m\u001b[1;33m\u001b[0m\u001b[1;33m\u001b[0m\u001b[1;33m\u001b[0m\u001b[0m\n\u001b[1;32m--> 457\u001b[1;33m     \u001b[0mparser\u001b[0m \u001b[1;33m=\u001b[0m \u001b[0mTextFileReader\u001b[0m\u001b[1;33m(\u001b[0m\u001b[0mfp_or_buf\u001b[0m\u001b[1;33m,\u001b[0m \u001b[1;33m**\u001b[0m\u001b[0mkwds\u001b[0m\u001b[1;33m)\u001b[0m\u001b[1;33m\u001b[0m\u001b[1;33m\u001b[0m\u001b[0m\n\u001b[0m\u001b[0;32m    458\u001b[0m \u001b[1;33m\u001b[0m\u001b[0m\n\u001b[0;32m    459\u001b[0m     \u001b[1;32mif\u001b[0m \u001b[0mchunksize\u001b[0m \u001b[1;32mor\u001b[0m \u001b[0miterator\u001b[0m\u001b[1;33m:\u001b[0m\u001b[1;33m\u001b[0m\u001b[1;33m\u001b[0m\u001b[0m\n",
      "\u001b[1;32m~\\AppData\\Local\\Continuum\\anaconda3\\lib\\site-packages\\pandas\\io\\parsers.py\u001b[0m in \u001b[0;36m__init__\u001b[1;34m(self, f, engine, **kwds)\u001b[0m\n\u001b[0;32m    893\u001b[0m             \u001b[0mself\u001b[0m\u001b[1;33m.\u001b[0m\u001b[0moptions\u001b[0m\u001b[1;33m[\u001b[0m\u001b[1;34m\"has_index_names\"\u001b[0m\u001b[1;33m]\u001b[0m \u001b[1;33m=\u001b[0m \u001b[0mkwds\u001b[0m\u001b[1;33m[\u001b[0m\u001b[1;34m\"has_index_names\"\u001b[0m\u001b[1;33m]\u001b[0m\u001b[1;33m\u001b[0m\u001b[1;33m\u001b[0m\u001b[0m\n\u001b[0;32m    894\u001b[0m \u001b[1;33m\u001b[0m\u001b[0m\n\u001b[1;32m--> 895\u001b[1;33m         \u001b[0mself\u001b[0m\u001b[1;33m.\u001b[0m\u001b[0m_make_engine\u001b[0m\u001b[1;33m(\u001b[0m\u001b[0mself\u001b[0m\u001b[1;33m.\u001b[0m\u001b[0mengine\u001b[0m\u001b[1;33m)\u001b[0m\u001b[1;33m\u001b[0m\u001b[1;33m\u001b[0m\u001b[0m\n\u001b[0m\u001b[0;32m    896\u001b[0m \u001b[1;33m\u001b[0m\u001b[0m\n\u001b[0;32m    897\u001b[0m     \u001b[1;32mdef\u001b[0m \u001b[0mclose\u001b[0m\u001b[1;33m(\u001b[0m\u001b[0mself\u001b[0m\u001b[1;33m)\u001b[0m\u001b[1;33m:\u001b[0m\u001b[1;33m\u001b[0m\u001b[1;33m\u001b[0m\u001b[0m\n",
      "\u001b[1;32m~\\AppData\\Local\\Continuum\\anaconda3\\lib\\site-packages\\pandas\\io\\parsers.py\u001b[0m in \u001b[0;36m_make_engine\u001b[1;34m(self, engine)\u001b[0m\n\u001b[0;32m   1133\u001b[0m     \u001b[1;32mdef\u001b[0m \u001b[0m_make_engine\u001b[0m\u001b[1;33m(\u001b[0m\u001b[0mself\u001b[0m\u001b[1;33m,\u001b[0m \u001b[0mengine\u001b[0m\u001b[1;33m=\u001b[0m\u001b[1;34m\"c\"\u001b[0m\u001b[1;33m)\u001b[0m\u001b[1;33m:\u001b[0m\u001b[1;33m\u001b[0m\u001b[1;33m\u001b[0m\u001b[0m\n\u001b[0;32m   1134\u001b[0m         \u001b[1;32mif\u001b[0m \u001b[0mengine\u001b[0m \u001b[1;33m==\u001b[0m \u001b[1;34m\"c\"\u001b[0m\u001b[1;33m:\u001b[0m\u001b[1;33m\u001b[0m\u001b[1;33m\u001b[0m\u001b[0m\n\u001b[1;32m-> 1135\u001b[1;33m             \u001b[0mself\u001b[0m\u001b[1;33m.\u001b[0m\u001b[0m_engine\u001b[0m \u001b[1;33m=\u001b[0m \u001b[0mCParserWrapper\u001b[0m\u001b[1;33m(\u001b[0m\u001b[0mself\u001b[0m\u001b[1;33m.\u001b[0m\u001b[0mf\u001b[0m\u001b[1;33m,\u001b[0m \u001b[1;33m**\u001b[0m\u001b[0mself\u001b[0m\u001b[1;33m.\u001b[0m\u001b[0moptions\u001b[0m\u001b[1;33m)\u001b[0m\u001b[1;33m\u001b[0m\u001b[1;33m\u001b[0m\u001b[0m\n\u001b[0m\u001b[0;32m   1136\u001b[0m         \u001b[1;32melse\u001b[0m\u001b[1;33m:\u001b[0m\u001b[1;33m\u001b[0m\u001b[1;33m\u001b[0m\u001b[0m\n\u001b[0;32m   1137\u001b[0m             \u001b[1;32mif\u001b[0m \u001b[0mengine\u001b[0m \u001b[1;33m==\u001b[0m \u001b[1;34m\"python\"\u001b[0m\u001b[1;33m:\u001b[0m\u001b[1;33m\u001b[0m\u001b[1;33m\u001b[0m\u001b[0m\n",
      "\u001b[1;32m~\\AppData\\Local\\Continuum\\anaconda3\\lib\\site-packages\\pandas\\io\\parsers.py\u001b[0m in \u001b[0;36m__init__\u001b[1;34m(self, src, **kwds)\u001b[0m\n\u001b[0;32m   1915\u001b[0m         \u001b[0mkwds\u001b[0m\u001b[1;33m[\u001b[0m\u001b[1;34m\"usecols\"\u001b[0m\u001b[1;33m]\u001b[0m \u001b[1;33m=\u001b[0m \u001b[0mself\u001b[0m\u001b[1;33m.\u001b[0m\u001b[0musecols\u001b[0m\u001b[1;33m\u001b[0m\u001b[1;33m\u001b[0m\u001b[0m\n\u001b[0;32m   1916\u001b[0m \u001b[1;33m\u001b[0m\u001b[0m\n\u001b[1;32m-> 1917\u001b[1;33m         \u001b[0mself\u001b[0m\u001b[1;33m.\u001b[0m\u001b[0m_reader\u001b[0m \u001b[1;33m=\u001b[0m \u001b[0mparsers\u001b[0m\u001b[1;33m.\u001b[0m\u001b[0mTextReader\u001b[0m\u001b[1;33m(\u001b[0m\u001b[0msrc\u001b[0m\u001b[1;33m,\u001b[0m \u001b[1;33m**\u001b[0m\u001b[0mkwds\u001b[0m\u001b[1;33m)\u001b[0m\u001b[1;33m\u001b[0m\u001b[1;33m\u001b[0m\u001b[0m\n\u001b[0m\u001b[0;32m   1918\u001b[0m         \u001b[0mself\u001b[0m\u001b[1;33m.\u001b[0m\u001b[0munnamed_cols\u001b[0m \u001b[1;33m=\u001b[0m \u001b[0mself\u001b[0m\u001b[1;33m.\u001b[0m\u001b[0m_reader\u001b[0m\u001b[1;33m.\u001b[0m\u001b[0munnamed_cols\u001b[0m\u001b[1;33m\u001b[0m\u001b[1;33m\u001b[0m\u001b[0m\n\u001b[0;32m   1919\u001b[0m \u001b[1;33m\u001b[0m\u001b[0m\n",
      "\u001b[1;32mpandas\\_libs\\parsers.pyx\u001b[0m in \u001b[0;36mpandas._libs.parsers.TextReader.__cinit__\u001b[1;34m()\u001b[0m\n",
      "\u001b[1;32mpandas\\_libs\\parsers.pyx\u001b[0m in \u001b[0;36mpandas._libs.parsers.TextReader._setup_parser_source\u001b[1;34m()\u001b[0m\n",
      "\u001b[1;31mFileNotFoundError\u001b[0m: [Errno 2] File b'Test.csv' does not exist: b'Test.csv'"
     ]
    }
   ],
   "source": [
    "df_test = pd.read_csv(\"Test.csv\") # Final set to test model and submit on\n",
    "\n",
    "df_train = pd.read_csv(\"Train.csv\") # Data to train model on\n",
    "df_train.drop_duplicates(inplace=True) # Remove Duplicate Rows\n",
    "\n",
    "df_riders = pd.read_csv(\"Riders.csv\") # Rider Metrics\n",
    "df_riders.drop_duplicates(inplace=True) # Remove Duplicate Rows\n",
    "\n",
    "df_sample_submission = pd.read_csv(\"SampleSubmission.csv\") # Final submission sample"
   ]
  },
  {
   "cell_type": "markdown",
   "metadata": {},
   "source": [
    "# <font color=green>3. Understanding the Data</font>\n",
    "- Columns\n",
    "- Indexes"
   ]
  },
  {
   "cell_type": "markdown",
   "metadata": {},
   "source": [
    "#### Data Preview"
   ]
  },
  {
   "cell_type": "code",
   "execution_count": 992,
   "metadata": {
    "scrolled": false
   },
   "outputs": [
    {
     "data": {
      "text/html": [
       "<div>\n",
       "<style scoped>\n",
       "    .dataframe tbody tr th:only-of-type {\n",
       "        vertical-align: middle;\n",
       "    }\n",
       "\n",
       "    .dataframe tbody tr th {\n",
       "        vertical-align: top;\n",
       "    }\n",
       "\n",
       "    .dataframe thead th {\n",
       "        text-align: right;\n",
       "    }\n",
       "</style>\n",
       "<table border=\"1\" class=\"dataframe\">\n",
       "  <thead>\n",
       "    <tr style=\"text-align: right;\">\n",
       "      <th></th>\n",
       "      <th>Order No</th>\n",
       "      <th>User Id</th>\n",
       "      <th>Vehicle Type</th>\n",
       "      <th>Platform Type</th>\n",
       "      <th>Personal or Business</th>\n",
       "      <th>Placement - Day of Month</th>\n",
       "      <th>Placement - Weekday (Mo = 1)</th>\n",
       "      <th>Placement - Time</th>\n",
       "      <th>Confirmation - Day of Month</th>\n",
       "      <th>Confirmation - Weekday (Mo = 1)</th>\n",
       "      <th>...</th>\n",
       "      <th>Arrival at Destination - Time</th>\n",
       "      <th>Distance (KM)</th>\n",
       "      <th>Temperature</th>\n",
       "      <th>Precipitation in millimeters</th>\n",
       "      <th>Pickup Lat</th>\n",
       "      <th>Pickup Long</th>\n",
       "      <th>Destination Lat</th>\n",
       "      <th>Destination Long</th>\n",
       "      <th>Rider Id</th>\n",
       "      <th>Time from Pickup to Arrival</th>\n",
       "    </tr>\n",
       "  </thead>\n",
       "  <tbody>\n",
       "    <tr>\n",
       "      <td>0</td>\n",
       "      <td>Order_No_4211</td>\n",
       "      <td>User_Id_633</td>\n",
       "      <td>Bike</td>\n",
       "      <td>3</td>\n",
       "      <td>Business</td>\n",
       "      <td>9</td>\n",
       "      <td>5</td>\n",
       "      <td>9:35:46 AM</td>\n",
       "      <td>9</td>\n",
       "      <td>5</td>\n",
       "      <td>...</td>\n",
       "      <td>10:39:55 AM</td>\n",
       "      <td>4</td>\n",
       "      <td>20.4</td>\n",
       "      <td>NaN</td>\n",
       "      <td>-1.317755</td>\n",
       "      <td>36.830370</td>\n",
       "      <td>-1.300406</td>\n",
       "      <td>36.829741</td>\n",
       "      <td>Rider_Id_432</td>\n",
       "      <td>745</td>\n",
       "    </tr>\n",
       "    <tr>\n",
       "      <td>1</td>\n",
       "      <td>Order_No_25375</td>\n",
       "      <td>User_Id_2285</td>\n",
       "      <td>Bike</td>\n",
       "      <td>3</td>\n",
       "      <td>Personal</td>\n",
       "      <td>12</td>\n",
       "      <td>5</td>\n",
       "      <td>11:16:16 AM</td>\n",
       "      <td>12</td>\n",
       "      <td>5</td>\n",
       "      <td>...</td>\n",
       "      <td>12:17:22 PM</td>\n",
       "      <td>16</td>\n",
       "      <td>26.4</td>\n",
       "      <td>NaN</td>\n",
       "      <td>-1.351453</td>\n",
       "      <td>36.899315</td>\n",
       "      <td>-1.295004</td>\n",
       "      <td>36.814358</td>\n",
       "      <td>Rider_Id_856</td>\n",
       "      <td>1993</td>\n",
       "    </tr>\n",
       "    <tr>\n",
       "      <td>2</td>\n",
       "      <td>Order_No_1899</td>\n",
       "      <td>User_Id_265</td>\n",
       "      <td>Bike</td>\n",
       "      <td>3</td>\n",
       "      <td>Business</td>\n",
       "      <td>30</td>\n",
       "      <td>2</td>\n",
       "      <td>12:39:25 PM</td>\n",
       "      <td>30</td>\n",
       "      <td>2</td>\n",
       "      <td>...</td>\n",
       "      <td>1:00:38 PM</td>\n",
       "      <td>3</td>\n",
       "      <td>NaN</td>\n",
       "      <td>NaN</td>\n",
       "      <td>-1.308284</td>\n",
       "      <td>36.843419</td>\n",
       "      <td>-1.300921</td>\n",
       "      <td>36.828195</td>\n",
       "      <td>Rider_Id_155</td>\n",
       "      <td>455</td>\n",
       "    </tr>\n",
       "  </tbody>\n",
       "</table>\n",
       "<p>3 rows × 29 columns</p>\n",
       "</div>"
      ],
      "text/plain": [
       "         Order No       User Id Vehicle Type  Platform Type  \\\n",
       "0   Order_No_4211   User_Id_633         Bike              3   \n",
       "1  Order_No_25375  User_Id_2285         Bike              3   \n",
       "2   Order_No_1899   User_Id_265         Bike              3   \n",
       "\n",
       "  Personal or Business  Placement - Day of Month  \\\n",
       "0             Business                         9   \n",
       "1             Personal                        12   \n",
       "2             Business                        30   \n",
       "\n",
       "   Placement - Weekday (Mo = 1) Placement - Time  Confirmation - Day of Month  \\\n",
       "0                             5       9:35:46 AM                            9   \n",
       "1                             5      11:16:16 AM                           12   \n",
       "2                             2      12:39:25 PM                           30   \n",
       "\n",
       "   Confirmation - Weekday (Mo = 1)  ... Arrival at Destination - Time  \\\n",
       "0                                5  ...                   10:39:55 AM   \n",
       "1                                5  ...                   12:17:22 PM   \n",
       "2                                2  ...                    1:00:38 PM   \n",
       "\n",
       "   Distance (KM)  Temperature Precipitation in millimeters  Pickup Lat  \\\n",
       "0              4         20.4                          NaN   -1.317755   \n",
       "1             16         26.4                          NaN   -1.351453   \n",
       "2              3          NaN                          NaN   -1.308284   \n",
       "\n",
       "   Pickup Long Destination Lat  Destination Long      Rider Id  \\\n",
       "0    36.830370       -1.300406         36.829741  Rider_Id_432   \n",
       "1    36.899315       -1.295004         36.814358  Rider_Id_856   \n",
       "2    36.843419       -1.300921         36.828195  Rider_Id_155   \n",
       "\n",
       "  Time from Pickup to Arrival  \n",
       "0                         745  \n",
       "1                        1993  \n",
       "2                         455  \n",
       "\n",
       "[3 rows x 29 columns]"
      ]
     },
     "execution_count": 992,
     "metadata": {},
     "output_type": "execute_result"
    }
   ],
   "source": [
    "df_train.head(3) # View the data setup"
   ]
  },
  {
   "cell_type": "markdown",
   "metadata": {},
   "source": [
    "#### Unique Counts (Identify column types and distinguish continuous and discrete variables)"
   ]
  },
  {
   "cell_type": "code",
   "execution_count": 993,
   "metadata": {
    "scrolled": true
   },
   "outputs": [
    {
     "data": {
      "text/plain": [
       "Order No                                     21201\n",
       "User Id                                       3186\n",
       "Vehicle Type                                     1\n",
       "Platform Type                                    4\n",
       "Personal or Business                             2\n",
       "Placement - Day of Month                        31\n",
       "Placement - Weekday (Mo = 1)                     7\n",
       "Placement - Time                             15686\n",
       "Confirmation - Day of Month                     31\n",
       "Confirmation - Weekday (Mo = 1)                  7\n",
       "Confirmation - Time                          15742\n",
       "Arrival at Pickup - Day of Month                31\n",
       "Arrival at Pickup - Weekday (Mo = 1)             7\n",
       "Arrival at Pickup - Time                     15767\n",
       "Pickup - Day of Month                           31\n",
       "Pickup - Weekday (Mo = 1)                        7\n",
       "Pickup - Time                                15690\n",
       "Arrival at Destination - Day of Month           31\n",
       "Arrival at Destination - Weekday (Mo = 1)        7\n",
       "Arrival at Destination - Time                15725\n",
       "Distance (KM)                                   45\n",
       "Temperature                                    188\n",
       "Precipitation in millimeters                    54\n",
       "Pickup Lat                                    3666\n",
       "Pickup Long                                   3656\n",
       "Destination Lat                               5302\n",
       "Destination Long                              5267\n",
       "Rider Id                                       924\n",
       "Time from Pickup to Arrival                   4067\n",
       "dtype: int64"
      ]
     },
     "execution_count": 993,
     "metadata": {},
     "output_type": "execute_result"
    }
   ],
   "source": [
    "df_train.nunique()"
   ]
  },
  {
   "cell_type": "markdown",
   "metadata": {},
   "source": [
    "#### Drop Vehicle Type Since Only One Unique Type"
   ]
  },
  {
   "cell_type": "code",
   "execution_count": 3,
   "metadata": {},
   "outputs": [
    {
     "ename": "NameError",
     "evalue": "name 'df_train' is not defined",
     "output_type": "error",
     "traceback": [
      "\u001b[1;31m---------------------------------------------------------------------------\u001b[0m",
      "\u001b[1;31mNameError\u001b[0m                                 Traceback (most recent call last)",
      "\u001b[1;32m<ipython-input-3-018048bc52a2>\u001b[0m in \u001b[0;36m<module>\u001b[1;34m\u001b[0m\n\u001b[1;32m----> 1\u001b[1;33m \u001b[0mdf_train\u001b[0m\u001b[1;33m.\u001b[0m\u001b[0mdrop\u001b[0m\u001b[1;33m(\u001b[0m\u001b[1;34m\"Vehicle Type\"\u001b[0m\u001b[1;33m,\u001b[0m \u001b[0maxis\u001b[0m\u001b[1;33m=\u001b[0m\u001b[1;36m1\u001b[0m\u001b[1;33m,\u001b[0m \u001b[0minplace\u001b[0m\u001b[1;33m=\u001b[0m\u001b[1;32mTrue\u001b[0m\u001b[1;33m)\u001b[0m\u001b[1;33m\u001b[0m\u001b[1;33m\u001b[0m\u001b[0m\n\u001b[0m\u001b[0;32m      2\u001b[0m \u001b[0mdf_test\u001b[0m\u001b[1;33m.\u001b[0m\u001b[0mdrop\u001b[0m\u001b[1;33m(\u001b[0m\u001b[1;34m\"Vehicle Type\"\u001b[0m\u001b[1;33m,\u001b[0m \u001b[0maxis\u001b[0m\u001b[1;33m=\u001b[0m\u001b[1;36m1\u001b[0m\u001b[1;33m,\u001b[0m \u001b[0minplace\u001b[0m\u001b[1;33m=\u001b[0m\u001b[1;32mTrue\u001b[0m\u001b[1;33m)\u001b[0m\u001b[1;33m\u001b[0m\u001b[1;33m\u001b[0m\u001b[0m\n",
      "\u001b[1;31mNameError\u001b[0m: name 'df_train' is not defined"
     ]
    }
   ],
   "source": [
    "df_train.drop(\"Vehicle Type\", axis=1, inplace=True)\n",
    "df_test.drop(\"Vehicle Type\", axis=1, inplace=True)"
   ]
  },
  {
   "cell_type": "markdown",
   "metadata": {},
   "source": [
    "#### Describe Data"
   ]
  },
  {
   "cell_type": "code",
   "execution_count": 995,
   "metadata": {
    "scrolled": false
   },
   "outputs": [
    {
     "data": {
      "text/html": [
       "<div>\n",
       "<style scoped>\n",
       "    .dataframe tbody tr th:only-of-type {\n",
       "        vertical-align: middle;\n",
       "    }\n",
       "\n",
       "    .dataframe tbody tr th {\n",
       "        vertical-align: top;\n",
       "    }\n",
       "\n",
       "    .dataframe thead th {\n",
       "        text-align: right;\n",
       "    }\n",
       "</style>\n",
       "<table border=\"1\" class=\"dataframe\">\n",
       "  <thead>\n",
       "    <tr style=\"text-align: right;\">\n",
       "      <th></th>\n",
       "      <th>Platform Type</th>\n",
       "      <th>Placement - Day of Month</th>\n",
       "      <th>Placement - Weekday (Mo = 1)</th>\n",
       "      <th>Confirmation - Day of Month</th>\n",
       "      <th>Confirmation - Weekday (Mo = 1)</th>\n",
       "      <th>Arrival at Pickup - Day of Month</th>\n",
       "      <th>Arrival at Pickup - Weekday (Mo = 1)</th>\n",
       "      <th>Pickup - Day of Month</th>\n",
       "      <th>Pickup - Weekday (Mo = 1)</th>\n",
       "      <th>Arrival at Destination - Day of Month</th>\n",
       "      <th>Arrival at Destination - Weekday (Mo = 1)</th>\n",
       "      <th>Distance (KM)</th>\n",
       "      <th>Temperature</th>\n",
       "      <th>Precipitation in millimeters</th>\n",
       "      <th>Pickup Lat</th>\n",
       "      <th>Pickup Long</th>\n",
       "      <th>Destination Lat</th>\n",
       "      <th>Destination Long</th>\n",
       "      <th>Time from Pickup to Arrival</th>\n",
       "    </tr>\n",
       "  </thead>\n",
       "  <tbody>\n",
       "    <tr>\n",
       "      <td>count</td>\n",
       "      <td>21201.000000</td>\n",
       "      <td>21201.000000</td>\n",
       "      <td>21201.000000</td>\n",
       "      <td>21201.000000</td>\n",
       "      <td>21201.000000</td>\n",
       "      <td>21201.000000</td>\n",
       "      <td>21201.000000</td>\n",
       "      <td>21201.000000</td>\n",
       "      <td>21201.000000</td>\n",
       "      <td>21201.000000</td>\n",
       "      <td>21201.000000</td>\n",
       "      <td>21201.000000</td>\n",
       "      <td>16835.000000</td>\n",
       "      <td>552.000000</td>\n",
       "      <td>21201.000000</td>\n",
       "      <td>21201.000000</td>\n",
       "      <td>21201.000000</td>\n",
       "      <td>21201.000000</td>\n",
       "      <td>21201.000000</td>\n",
       "    </tr>\n",
       "    <tr>\n",
       "      <td>mean</td>\n",
       "      <td>2.752182</td>\n",
       "      <td>15.653696</td>\n",
       "      <td>3.240083</td>\n",
       "      <td>15.653837</td>\n",
       "      <td>3.240225</td>\n",
       "      <td>15.653837</td>\n",
       "      <td>3.240225</td>\n",
       "      <td>15.653837</td>\n",
       "      <td>3.240225</td>\n",
       "      <td>15.653837</td>\n",
       "      <td>3.240225</td>\n",
       "      <td>9.506533</td>\n",
       "      <td>23.258889</td>\n",
       "      <td>7.905797</td>\n",
       "      <td>-1.281470</td>\n",
       "      <td>36.811264</td>\n",
       "      <td>-1.282581</td>\n",
       "      <td>36.811220</td>\n",
       "      <td>1556.920947</td>\n",
       "    </tr>\n",
       "    <tr>\n",
       "      <td>std</td>\n",
       "      <td>0.625178</td>\n",
       "      <td>8.798916</td>\n",
       "      <td>1.567295</td>\n",
       "      <td>8.798886</td>\n",
       "      <td>1.567228</td>\n",
       "      <td>8.798886</td>\n",
       "      <td>1.567228</td>\n",
       "      <td>8.798886</td>\n",
       "      <td>1.567228</td>\n",
       "      <td>8.798886</td>\n",
       "      <td>1.567228</td>\n",
       "      <td>5.668963</td>\n",
       "      <td>3.615768</td>\n",
       "      <td>17.089971</td>\n",
       "      <td>0.030507</td>\n",
       "      <td>0.037473</td>\n",
       "      <td>0.034824</td>\n",
       "      <td>0.044721</td>\n",
       "      <td>987.270788</td>\n",
       "    </tr>\n",
       "    <tr>\n",
       "      <td>min</td>\n",
       "      <td>1.000000</td>\n",
       "      <td>1.000000</td>\n",
       "      <td>1.000000</td>\n",
       "      <td>1.000000</td>\n",
       "      <td>1.000000</td>\n",
       "      <td>1.000000</td>\n",
       "      <td>1.000000</td>\n",
       "      <td>1.000000</td>\n",
       "      <td>1.000000</td>\n",
       "      <td>1.000000</td>\n",
       "      <td>1.000000</td>\n",
       "      <td>1.000000</td>\n",
       "      <td>11.200000</td>\n",
       "      <td>0.100000</td>\n",
       "      <td>-1.438302</td>\n",
       "      <td>36.653621</td>\n",
       "      <td>-1.430298</td>\n",
       "      <td>36.606594</td>\n",
       "      <td>1.000000</td>\n",
       "    </tr>\n",
       "    <tr>\n",
       "      <td>25%</td>\n",
       "      <td>3.000000</td>\n",
       "      <td>8.000000</td>\n",
       "      <td>2.000000</td>\n",
       "      <td>8.000000</td>\n",
       "      <td>2.000000</td>\n",
       "      <td>8.000000</td>\n",
       "      <td>2.000000</td>\n",
       "      <td>8.000000</td>\n",
       "      <td>2.000000</td>\n",
       "      <td>8.000000</td>\n",
       "      <td>2.000000</td>\n",
       "      <td>5.000000</td>\n",
       "      <td>20.600000</td>\n",
       "      <td>1.075000</td>\n",
       "      <td>-1.300921</td>\n",
       "      <td>36.784605</td>\n",
       "      <td>-1.301201</td>\n",
       "      <td>36.785661</td>\n",
       "      <td>882.000000</td>\n",
       "    </tr>\n",
       "    <tr>\n",
       "      <td>50%</td>\n",
       "      <td>3.000000</td>\n",
       "      <td>15.000000</td>\n",
       "      <td>3.000000</td>\n",
       "      <td>15.000000</td>\n",
       "      <td>3.000000</td>\n",
       "      <td>15.000000</td>\n",
       "      <td>3.000000</td>\n",
       "      <td>15.000000</td>\n",
       "      <td>3.000000</td>\n",
       "      <td>15.000000</td>\n",
       "      <td>3.000000</td>\n",
       "      <td>8.000000</td>\n",
       "      <td>23.500000</td>\n",
       "      <td>2.900000</td>\n",
       "      <td>-1.279395</td>\n",
       "      <td>36.807040</td>\n",
       "      <td>-1.284382</td>\n",
       "      <td>36.808002</td>\n",
       "      <td>1369.000000</td>\n",
       "    </tr>\n",
       "    <tr>\n",
       "      <td>75%</td>\n",
       "      <td>3.000000</td>\n",
       "      <td>23.000000</td>\n",
       "      <td>5.000000</td>\n",
       "      <td>23.000000</td>\n",
       "      <td>5.000000</td>\n",
       "      <td>23.000000</td>\n",
       "      <td>5.000000</td>\n",
       "      <td>23.000000</td>\n",
       "      <td>5.000000</td>\n",
       "      <td>23.000000</td>\n",
       "      <td>5.000000</td>\n",
       "      <td>13.000000</td>\n",
       "      <td>26.000000</td>\n",
       "      <td>4.900000</td>\n",
       "      <td>-1.257147</td>\n",
       "      <td>36.829741</td>\n",
       "      <td>-1.261177</td>\n",
       "      <td>36.829477</td>\n",
       "      <td>2040.000000</td>\n",
       "    </tr>\n",
       "    <tr>\n",
       "      <td>max</td>\n",
       "      <td>4.000000</td>\n",
       "      <td>31.000000</td>\n",
       "      <td>7.000000</td>\n",
       "      <td>31.000000</td>\n",
       "      <td>7.000000</td>\n",
       "      <td>31.000000</td>\n",
       "      <td>7.000000</td>\n",
       "      <td>31.000000</td>\n",
       "      <td>7.000000</td>\n",
       "      <td>31.000000</td>\n",
       "      <td>7.000000</td>\n",
       "      <td>49.000000</td>\n",
       "      <td>32.100000</td>\n",
       "      <td>99.100000</td>\n",
       "      <td>-1.147170</td>\n",
       "      <td>36.991046</td>\n",
       "      <td>-1.030225</td>\n",
       "      <td>37.016779</td>\n",
       "      <td>7883.000000</td>\n",
       "    </tr>\n",
       "  </tbody>\n",
       "</table>\n",
       "</div>"
      ],
      "text/plain": [
       "       Platform Type  Placement - Day of Month  Placement - Weekday (Mo = 1)  \\\n",
       "count   21201.000000              21201.000000                  21201.000000   \n",
       "mean        2.752182                 15.653696                      3.240083   \n",
       "std         0.625178                  8.798916                      1.567295   \n",
       "min         1.000000                  1.000000                      1.000000   \n",
       "25%         3.000000                  8.000000                      2.000000   \n",
       "50%         3.000000                 15.000000                      3.000000   \n",
       "75%         3.000000                 23.000000                      5.000000   \n",
       "max         4.000000                 31.000000                      7.000000   \n",
       "\n",
       "       Confirmation - Day of Month  Confirmation - Weekday (Mo = 1)  \\\n",
       "count                 21201.000000                     21201.000000   \n",
       "mean                     15.653837                         3.240225   \n",
       "std                       8.798886                         1.567228   \n",
       "min                       1.000000                         1.000000   \n",
       "25%                       8.000000                         2.000000   \n",
       "50%                      15.000000                         3.000000   \n",
       "75%                      23.000000                         5.000000   \n",
       "max                      31.000000                         7.000000   \n",
       "\n",
       "       Arrival at Pickup - Day of Month  Arrival at Pickup - Weekday (Mo = 1)  \\\n",
       "count                      21201.000000                          21201.000000   \n",
       "mean                          15.653837                              3.240225   \n",
       "std                            8.798886                              1.567228   \n",
       "min                            1.000000                              1.000000   \n",
       "25%                            8.000000                              2.000000   \n",
       "50%                           15.000000                              3.000000   \n",
       "75%                           23.000000                              5.000000   \n",
       "max                           31.000000                              7.000000   \n",
       "\n",
       "       Pickup - Day of Month  Pickup - Weekday (Mo = 1)  \\\n",
       "count           21201.000000               21201.000000   \n",
       "mean               15.653837                   3.240225   \n",
       "std                 8.798886                   1.567228   \n",
       "min                 1.000000                   1.000000   \n",
       "25%                 8.000000                   2.000000   \n",
       "50%                15.000000                   3.000000   \n",
       "75%                23.000000                   5.000000   \n",
       "max                31.000000                   7.000000   \n",
       "\n",
       "       Arrival at Destination - Day of Month  \\\n",
       "count                           21201.000000   \n",
       "mean                               15.653837   \n",
       "std                                 8.798886   \n",
       "min                                 1.000000   \n",
       "25%                                 8.000000   \n",
       "50%                                15.000000   \n",
       "75%                                23.000000   \n",
       "max                                31.000000   \n",
       "\n",
       "       Arrival at Destination - Weekday (Mo = 1)  Distance (KM)   Temperature  \\\n",
       "count                               21201.000000   21201.000000  16835.000000   \n",
       "mean                                    3.240225       9.506533     23.258889   \n",
       "std                                     1.567228       5.668963      3.615768   \n",
       "min                                     1.000000       1.000000     11.200000   \n",
       "25%                                     2.000000       5.000000     20.600000   \n",
       "50%                                     3.000000       8.000000     23.500000   \n",
       "75%                                     5.000000      13.000000     26.000000   \n",
       "max                                     7.000000      49.000000     32.100000   \n",
       "\n",
       "       Precipitation in millimeters    Pickup Lat   Pickup Long  \\\n",
       "count                    552.000000  21201.000000  21201.000000   \n",
       "mean                       7.905797     -1.281470     36.811264   \n",
       "std                       17.089971      0.030507      0.037473   \n",
       "min                        0.100000     -1.438302     36.653621   \n",
       "25%                        1.075000     -1.300921     36.784605   \n",
       "50%                        2.900000     -1.279395     36.807040   \n",
       "75%                        4.900000     -1.257147     36.829741   \n",
       "max                       99.100000     -1.147170     36.991046   \n",
       "\n",
       "       Destination Lat  Destination Long  Time from Pickup to Arrival  \n",
       "count     21201.000000      21201.000000                 21201.000000  \n",
       "mean         -1.282581         36.811220                  1556.920947  \n",
       "std           0.034824          0.044721                   987.270788  \n",
       "min          -1.430298         36.606594                     1.000000  \n",
       "25%          -1.301201         36.785661                   882.000000  \n",
       "50%          -1.284382         36.808002                  1369.000000  \n",
       "75%          -1.261177         36.829477                  2040.000000  \n",
       "max          -1.030225         37.016779                  7883.000000  "
      ]
     },
     "execution_count": 995,
     "metadata": {},
     "output_type": "execute_result"
    }
   ],
   "source": [
    "df_train.describe()"
   ]
  },
  {
   "cell_type": "markdown",
   "metadata": {},
   "source": [
    "#### Categorical Columns\n",
    "- Vehicle Type\n",
    "- Platform Type\n",
    "- Personal or Business\n",
    "\n",
    "#### Time Columns (Columns containing)\n",
    "- Day of Month\n",
    "- Weekday (Mo = 1)\n",
    "- Time"
   ]
  },
  {
   "cell_type": "markdown",
   "metadata": {},
   "source": [
    "# <font color=green>4. Data Preprocessing</font>\n",
    "- Missing Data\n",
    "- Categorical Data"
   ]
  },
  {
   "cell_type": "markdown",
   "metadata": {},
   "source": [
    "#### Function to Change Column names to be without spaces and special characters"
   ]
  },
  {
   "cell_type": "code",
   "execution_count": 996,
   "metadata": {},
   "outputs": [],
   "source": [
    "def col_rename(cols): #Takes a list of columns\n",
    "    \n",
    "    \"\"\"Remove blank spaces and special characters in column names\"\"\"\n",
    "    \n",
    "    new_col_names = []\n",
    "    special_chars = (string.punctuation).replace(\"_\", \" \") # String containing all special characters and blank space\n",
    "    for col in cols:\n",
    "        for char in special_chars:\n",
    "            if char in col:\n",
    "                col = col.replace(char,\"_\") # Replace special characters with underscore\n",
    "        new_col_names.append(col)\n",
    "   \n",
    "    return new_col_names"
   ]
  },
  {
   "cell_type": "code",
   "execution_count": 997,
   "metadata": {},
   "outputs": [
    {
     "data": {
      "text/html": [
       "<div>\n",
       "<style scoped>\n",
       "    .dataframe tbody tr th:only-of-type {\n",
       "        vertical-align: middle;\n",
       "    }\n",
       "\n",
       "    .dataframe tbody tr th {\n",
       "        vertical-align: top;\n",
       "    }\n",
       "\n",
       "    .dataframe thead th {\n",
       "        text-align: right;\n",
       "    }\n",
       "</style>\n",
       "<table border=\"1\" class=\"dataframe\">\n",
       "  <thead>\n",
       "    <tr style=\"text-align: right;\">\n",
       "      <th></th>\n",
       "      <th>Order_No</th>\n",
       "      <th>User_Id</th>\n",
       "      <th>Platform_Type</th>\n",
       "      <th>Personal_or_Business</th>\n",
       "      <th>Placement___Day_of_Month</th>\n",
       "      <th>Placement___Weekday__Mo___1_</th>\n",
       "      <th>Placement___Time</th>\n",
       "      <th>Confirmation___Day_of_Month</th>\n",
       "      <th>Confirmation___Weekday__Mo___1_</th>\n",
       "      <th>Confirmation___Time</th>\n",
       "      <th>...</th>\n",
       "      <th>Arrival_at_Destination___Time</th>\n",
       "      <th>Distance__KM_</th>\n",
       "      <th>Temperature</th>\n",
       "      <th>Precipitation_in_millimeters</th>\n",
       "      <th>Pickup_Lat</th>\n",
       "      <th>Pickup_Long</th>\n",
       "      <th>Destination_Lat</th>\n",
       "      <th>Destination_Long</th>\n",
       "      <th>Rider_Id</th>\n",
       "      <th>Time_from_Pickup_to_Arrival</th>\n",
       "    </tr>\n",
       "  </thead>\n",
       "  <tbody>\n",
       "    <tr>\n",
       "      <td>0</td>\n",
       "      <td>Order_No_4211</td>\n",
       "      <td>User_Id_633</td>\n",
       "      <td>3</td>\n",
       "      <td>Business</td>\n",
       "      <td>9</td>\n",
       "      <td>5</td>\n",
       "      <td>9:35:46 AM</td>\n",
       "      <td>9</td>\n",
       "      <td>5</td>\n",
       "      <td>9:40:10 AM</td>\n",
       "      <td>...</td>\n",
       "      <td>10:39:55 AM</td>\n",
       "      <td>4</td>\n",
       "      <td>20.4</td>\n",
       "      <td>NaN</td>\n",
       "      <td>-1.317755</td>\n",
       "      <td>36.830370</td>\n",
       "      <td>-1.300406</td>\n",
       "      <td>36.829741</td>\n",
       "      <td>Rider_Id_432</td>\n",
       "      <td>745</td>\n",
       "    </tr>\n",
       "    <tr>\n",
       "      <td>1</td>\n",
       "      <td>Order_No_25375</td>\n",
       "      <td>User_Id_2285</td>\n",
       "      <td>3</td>\n",
       "      <td>Personal</td>\n",
       "      <td>12</td>\n",
       "      <td>5</td>\n",
       "      <td>11:16:16 AM</td>\n",
       "      <td>12</td>\n",
       "      <td>5</td>\n",
       "      <td>11:23:21 AM</td>\n",
       "      <td>...</td>\n",
       "      <td>12:17:22 PM</td>\n",
       "      <td>16</td>\n",
       "      <td>26.4</td>\n",
       "      <td>NaN</td>\n",
       "      <td>-1.351453</td>\n",
       "      <td>36.899315</td>\n",
       "      <td>-1.295004</td>\n",
       "      <td>36.814358</td>\n",
       "      <td>Rider_Id_856</td>\n",
       "      <td>1993</td>\n",
       "    </tr>\n",
       "  </tbody>\n",
       "</table>\n",
       "<p>2 rows × 28 columns</p>\n",
       "</div>"
      ],
      "text/plain": [
       "         Order_No       User_Id  Platform_Type Personal_or_Business  \\\n",
       "0   Order_No_4211   User_Id_633              3             Business   \n",
       "1  Order_No_25375  User_Id_2285              3             Personal   \n",
       "\n",
       "   Placement___Day_of_Month  Placement___Weekday__Mo___1_ Placement___Time  \\\n",
       "0                         9                             5       9:35:46 AM   \n",
       "1                        12                             5      11:16:16 AM   \n",
       "\n",
       "   Confirmation___Day_of_Month  Confirmation___Weekday__Mo___1_  \\\n",
       "0                            9                                5   \n",
       "1                           12                                5   \n",
       "\n",
       "  Confirmation___Time  ...  Arrival_at_Destination___Time  Distance__KM_  \\\n",
       "0          9:40:10 AM  ...                    10:39:55 AM              4   \n",
       "1         11:23:21 AM  ...                    12:17:22 PM             16   \n",
       "\n",
       "  Temperature  Precipitation_in_millimeters  Pickup_Lat Pickup_Long  \\\n",
       "0        20.4                           NaN   -1.317755   36.830370   \n",
       "1        26.4                           NaN   -1.351453   36.899315   \n",
       "\n",
       "   Destination_Lat  Destination_Long      Rider_Id  \\\n",
       "0        -1.300406         36.829741  Rider_Id_432   \n",
       "1        -1.295004         36.814358  Rider_Id_856   \n",
       "\n",
       "   Time_from_Pickup_to_Arrival  \n",
       "0                          745  \n",
       "1                         1993  \n",
       "\n",
       "[2 rows x 28 columns]"
      ]
     },
     "execution_count": 997,
     "metadata": {},
     "output_type": "execute_result"
    }
   ],
   "source": [
    "df_train.columns = col_rename(df_train.columns) # Call function to remove spaces\n",
    "df_test.columns = col_rename(df_test.columns)\n",
    "df_train.head(2)"
   ]
  },
  {
   "cell_type": "markdown",
   "metadata": {},
   "source": [
    "### Missing Data"
   ]
  },
  {
   "cell_type": "code",
   "execution_count": 999,
   "metadata": {
    "scrolled": true
   },
   "outputs": [
    {
     "name": "stdout",
     "output_type": "stream",
     "text": [
      "<class 'pandas.core.frame.DataFrame'>\n",
      "Int64Index: 21201 entries, 0 to 21200\n",
      "Data columns (total 28 columns):\n",
      "Order_No                                     21201 non-null object\n",
      "User_Id                                      21201 non-null object\n",
      "Platform_Type                                21201 non-null int64\n",
      "Personal_or_Business                         21201 non-null object\n",
      "Placement___Day_of_Month                     21201 non-null int64\n",
      "Placement___Weekday__Mo___1_                 21201 non-null int64\n",
      "Placement___Time                             21201 non-null object\n",
      "Confirmation___Day_of_Month                  21201 non-null int64\n",
      "Confirmation___Weekday__Mo___1_              21201 non-null int64\n",
      "Confirmation___Time                          21201 non-null object\n",
      "Arrival_at_Pickup___Day_of_Month             21201 non-null int64\n",
      "Arrival_at_Pickup___Weekday__Mo___1_         21201 non-null int64\n",
      "Arrival_at_Pickup___Time                     21201 non-null object\n",
      "Pickup___Day_of_Month                        21201 non-null int64\n",
      "Pickup___Weekday__Mo___1_                    21201 non-null int64\n",
      "Pickup___Time                                21201 non-null object\n",
      "Arrival_at_Destination___Day_of_Month        21201 non-null int64\n",
      "Arrival_at_Destination___Weekday__Mo___1_    21201 non-null int64\n",
      "Arrival_at_Destination___Time                21201 non-null object\n",
      "Distance__KM_                                21201 non-null int64\n",
      "Temperature                                  16835 non-null float64\n",
      "Precipitation_in_millimeters                 552 non-null float64\n",
      "Pickup_Lat                                   21201 non-null float64\n",
      "Pickup_Long                                  21201 non-null float64\n",
      "Destination_Lat                              21201 non-null float64\n",
      "Destination_Long                             21201 non-null float64\n",
      "Rider_Id                                     21201 non-null object\n",
      "Time_from_Pickup_to_Arrival                  21201 non-null int64\n",
      "dtypes: float64(6), int64(13), object(9)\n",
      "memory usage: 4.7+ MB\n"
     ]
    }
   ],
   "source": [
    "df_train.info() # Check for missing data"
   ]
  },
  {
   "cell_type": "markdown",
   "metadata": {},
   "source": [
    "#### Replace Missing data with median for continuous variables"
   ]
  },
  {
   "cell_type": "code",
   "execution_count": 1000,
   "metadata": {},
   "outputs": [],
   "source": [
    "# Take Average Temperature for Missing Values\n",
    "temp_median = round(df_train[\"Temperature\"].median(), 1) # Use same median so that data processed the same\n",
    "\n",
    "\n",
    "\n",
    "df_train[\"Temperature\"] = df_train[\"Temperature\"].apply(lambda x: temp_median if pd.isnull(x) else x)\n",
    "df_test[\"Temperature\"] = df_test[\"Temperature\"].apply(lambda x: temp_median if pd.isnull(x) else x)\n",
    "\n",
    "\n",
    "# Assume it was not raining for missing values\n",
    "df_train[\"Precipitation_in_millimeters\"]=df_train[\"Precipitation_in_millimeters\"].apply(lambda x: 0 if pd.isnull(x) else x)\n",
    "df_test[\"Precipitation_in_millimeters\"]=df_test[\"Precipitation_in_millimeters\"].apply(lambda x: 0 if pd.isnull(x) else x)"
   ]
  },
  {
   "cell_type": "markdown",
   "metadata": {},
   "source": [
    "###  Time and Date Columns"
   ]
  },
  {
   "cell_type": "markdown",
   "metadata": {},
   "source": [
    "#### Check Whether Placement, Confirmation, Pick Up and Delivery happen at the same day\n",
    "- If same day then all other day and month day columns redundant"
   ]
  },
  {
   "cell_type": "markdown",
   "metadata": {},
   "source": [
    "##### TRAIN DATA"
   ]
  },
  {
   "cell_type": "code",
   "execution_count": 1004,
   "metadata": {
    "scrolled": true
   },
   "outputs": [
    {
     "name": "stdout",
     "output_type": "stream",
     "text": [
      "Placement and confirmation done same day\n",
      "Confirmation and Arrival at PickUp done same day\n",
      "Arrival and Pick-Up done same day\n",
      "Pick up and Delivery done same Day\n"
     ]
    }
   ],
   "source": [
    "PlacementAndConfirmWeekDay = (df_train[\"Placement___Weekday__Mo___1_\"]).equals(df_train[\"Confirmation___Weekday__Mo___1_\"])\n",
    "PlacementAndConfirmMonth = (df_train[\"Placement___Day_of_Month\"]).equals(df_train[\"Confirmation___Day_of_Month\"])\n",
    "if PlacementAndConfirmWeekDay and PlacementAndConfirmMonth:\n",
    "    print(\"Placement and confirmation done same day\")\n",
    "    \n",
    "ArrivePickUpAndConfirmMonth = (df_train[\"Arrival_at_Pickup___Day_of_Month\"]).equals(df_train[\"Confirmation___Day_of_Month\"])\n",
    "ArrivePickUpAndConfirmDay = (df_train[\"Arrival_at_Pickup___Weekday__Mo___1_\"]).equals(df_train[\"Confirmation___Weekday__Mo___1_\"])\n",
    "if ArrivePickUpAndConfirmMonth and ArrivePickUpAndConfirmDay:\n",
    "    print(\"Confirmation and Arrival at PickUp done same day\")\n",
    "    \n",
    "ArriveAndPickUpMonth = (df_train[\"Pickup___Day_of_Month\"]).equals(df_train[\"Arrival_at_Pickup___Day_of_Month\"])\n",
    "ArriveAndPickUpDay = (df_train[\"Pickup___Weekday__Mo___1_\"]).equals(df_train[\"Arrival_at_Pickup___Weekday__Mo___1_\"])\n",
    "if ArriveAndPickUpMonth and ArriveAndPickUpDay:\n",
    "    print(\"Arrival and Pick-Up done same day\")\n",
    "    \n",
    "ArriveDestAndPickUpMonth = (df_train[\"Arrival_at_Destination___Day_of_Month\"]).equals(df_train[\"Arrival_at_Pickup___Day_of_Month\"])\n",
    "ArriveDestAndPickUpDay = (df_train[\"Arrival_at_Destination___Weekday__Mo___1_\"]).equals(df_train[\"Arrival_at_Pickup___Weekday__Mo___1_\"])\n",
    "if ArriveDestAndPickUpMonth and ArriveDestAndPickUpDay:\n",
    "    print(\"Pick up and Delivery done same Day\")"
   ]
  },
  {
   "cell_type": "markdown",
   "metadata": {},
   "source": [
    "##### TEST DATA"
   ]
  },
  {
   "cell_type": "code",
   "execution_count": 1002,
   "metadata": {},
   "outputs": [
    {
     "name": "stdout",
     "output_type": "stream",
     "text": [
      "Placement and confirmation done same day\n",
      "Confirmation and Arrival at PickUp done same day\n",
      "Arrival and Pick-Up done same day\n"
     ]
    }
   ],
   "source": [
    "PlacementAndConfirmWeekDay = (df_test[\"Placement___Weekday__Mo___1_\"]).equals(df_test[\"Confirmation___Weekday__Mo___1_\"])\n",
    "PlacementAndConfirmMonth = (df_test[\"Placement___Day_of_Month\"]).equals(df_test[\"Confirmation___Day_of_Month\"])\n",
    "if PlacementAndConfirmWeekDay and PlacementAndConfirmMonth:\n",
    "    print(\"Placement and confirmation done same day\")\n",
    "    \n",
    "ArrivePickUpAndConfirmMonth = (df_test[\"Arrival_at_Pickup___Day_of_Month\"]).equals(df_test[\"Confirmation___Day_of_Month\"])\n",
    "ArrivePickUpAndConfirmDay = (df_test[\"Arrival_at_Pickup___Weekday__Mo___1_\"]).equals(df_test[\"Confirmation___Weekday__Mo___1_\"])\n",
    "if ArrivePickUpAndConfirmMonth and ArrivePickUpAndConfirmDay:\n",
    "    print(\"Confirmation and Arrival at PickUp done same day\")\n",
    "    \n",
    "ArriveAndPickUpMonth = (df_test[\"Pickup___Day_of_Month\"]).equals(df_test[\"Arrival_at_Pickup___Day_of_Month\"])\n",
    "ArriveAndPickUpDay = (df_test[\"Pickup___Weekday__Mo___1_\"]).equals(df_test[\"Arrival_at_Pickup___Weekday__Mo___1_\"])\n",
    "if ArriveAndPickUpMonth and ArriveAndPickUpDay:\n",
    "    print(\"Arrival and Pick-Up done same day\")\n",
    "    "
   ]
  },
  {
   "cell_type": "markdown",
   "metadata": {},
   "source": [
    "##### Remove columns with different days - TRAIN DATA"
   ]
  },
  {
   "cell_type": "code",
   "execution_count": 1003,
   "metadata": {
    "scrolled": true
   },
   "outputs": [
    {
     "name": "stdout",
     "output_type": "stream",
     "text": [
      "Rows with different days: 2\n"
     ]
    }
   ],
   "source": [
    "f = df_train[\"Placement___Weekday__Mo___1_\"] == df_train[\"Confirmation___Weekday__Mo___1_\"]\n",
    "diff_day = []\n",
    "for t in range(len(f)):\n",
    "    if f.iloc[t] == False:\n",
    "        diff_day.append(t)\n",
    "df_train.drop(diff_day, inplace=True)\n",
    "print(\"Rows with different days:\",len(diff_day))"
   ]
  },
  {
   "cell_type": "markdown",
   "metadata": {},
   "source": [
    "#### Have one column for Day of Month and Day of Week respectively"
   ]
  },
  {
   "cell_type": "code",
   "execution_count": 1005,
   "metadata": {},
   "outputs": [],
   "source": [
    "df_train['Day_of_Month'] = df_train['Placement___Day_of_Month'] # Could have used any columns\n",
    "df_train['Weekday'] = df_train['Placement___Weekday__Mo___1_'] \n",
    "df_test['Day_of_Month'] = df_test['Placement___Day_of_Month']\n",
    "df_test['Weekday'] = df_test['Placement___Weekday__Mo___1_']"
   ]
  },
  {
   "cell_type": "markdown",
   "metadata": {},
   "source": [
    "### Time Columns Manipulation - Set Times \n",
    "- Time it takes from placement to confirm\n",
    "- Time it takes from confrim to Pick Up by driver\n",
    "- Time it takes from arriving at pick up to leaving by driver"
   ]
  },
  {
   "cell_type": "code",
   "execution_count": 1008,
   "metadata": {},
   "outputs": [],
   "source": [
    "def set_times(df): # Takes a Data Frame and adds time interval columns\n",
    "    \n",
    "    \"\"\"Calculate time intervals\"\"\"\n",
    "    \n",
    "    placement_time = pd.to_datetime(df[\"Placement___Time\"])\n",
    "    confirm_time = pd.to_datetime(df[\"Confirmation___Time\"])\n",
    "    arrival_atpickup_time = pd.to_datetime(df[\"Arrival_at_Pickup___Time\"])\n",
    "    pickup_time = pd.to_datetime(df[\"Pickup___Time\"])\n",
    "\n",
    "    df[\"Time_Placement_To_Confirm\"] = (confirm_time - placement_time).dt.seconds\n",
    "    df[\"Time_Confirm_To_PickUp_Arrival\"] = (arrival_atpickup_time - confirm_time).dt.seconds\n",
    "    df[\"Time_PickUp_Arrival_To_PickUp\"] = (pickup_time - arrival_atpickup_time).dt.seconds"
   ]
  },
  {
   "cell_type": "code",
   "execution_count": 1009,
   "metadata": {},
   "outputs": [],
   "source": [
    "set_times(df_train)\n",
    "set_times(df_test)"
   ]
  },
  {
   "cell_type": "markdown",
   "metadata": {},
   "source": [
    "### Riders DATA - Information about Riders"
   ]
  },
  {
   "cell_type": "code",
   "execution_count": 1010,
   "metadata": {
    "scrolled": true
   },
   "outputs": [
    {
     "data": {
      "text/html": [
       "<div>\n",
       "<style scoped>\n",
       "    .dataframe tbody tr th:only-of-type {\n",
       "        vertical-align: middle;\n",
       "    }\n",
       "\n",
       "    .dataframe tbody tr th {\n",
       "        vertical-align: top;\n",
       "    }\n",
       "\n",
       "    .dataframe thead th {\n",
       "        text-align: right;\n",
       "    }\n",
       "</style>\n",
       "<table border=\"1\" class=\"dataframe\">\n",
       "  <thead>\n",
       "    <tr style=\"text-align: right;\">\n",
       "      <th></th>\n",
       "      <th>Rider Id</th>\n",
       "      <th>No_Of_Orders</th>\n",
       "      <th>Age</th>\n",
       "      <th>Average_Rating</th>\n",
       "      <th>No_of_Ratings</th>\n",
       "    </tr>\n",
       "  </thead>\n",
       "  <tbody>\n",
       "    <tr>\n",
       "      <td>0</td>\n",
       "      <td>Rider_Id_396</td>\n",
       "      <td>2946</td>\n",
       "      <td>2298</td>\n",
       "      <td>14.0</td>\n",
       "      <td>1159</td>\n",
       "    </tr>\n",
       "    <tr>\n",
       "      <td>1</td>\n",
       "      <td>Rider_Id_479</td>\n",
       "      <td>360</td>\n",
       "      <td>951</td>\n",
       "      <td>13.5</td>\n",
       "      <td>176</td>\n",
       "    </tr>\n",
       "    <tr>\n",
       "      <td>2</td>\n",
       "      <td>Rider_Id_648</td>\n",
       "      <td>1746</td>\n",
       "      <td>821</td>\n",
       "      <td>14.3</td>\n",
       "      <td>466</td>\n",
       "    </tr>\n",
       "    <tr>\n",
       "      <td>3</td>\n",
       "      <td>Rider_Id_753</td>\n",
       "      <td>314</td>\n",
       "      <td>980</td>\n",
       "      <td>12.5</td>\n",
       "      <td>75</td>\n",
       "    </tr>\n",
       "  </tbody>\n",
       "</table>\n",
       "</div>"
      ],
      "text/plain": [
       "       Rider Id  No_Of_Orders   Age  Average_Rating  No_of_Ratings\n",
       "0  Rider_Id_396          2946  2298            14.0           1159\n",
       "1  Rider_Id_479           360   951            13.5            176\n",
       "2  Rider_Id_648          1746   821            14.3            466\n",
       "3  Rider_Id_753           314   980            12.5             75"
      ]
     },
     "execution_count": 1010,
     "metadata": {},
     "output_type": "execute_result"
    }
   ],
   "source": [
    "df_riders.head(4)"
   ]
  },
  {
   "cell_type": "code",
   "execution_count": 1011,
   "metadata": {},
   "outputs": [],
   "source": [
    "df_riders.columns = [col.replace(\" \",\"_\") for col in df_riders.columns] # Remove spaces in column names"
   ]
  },
  {
   "cell_type": "code",
   "execution_count": 1012,
   "metadata": {},
   "outputs": [
    {
     "data": {
      "text/plain": [
       "Rider_Id          960\n",
       "No_Of_Orders      811\n",
       "Age               725\n",
       "Average_Rating     45\n",
       "No_of_Ratings     553\n",
       "dtype: int64"
      ]
     },
     "execution_count": 1012,
     "metadata": {},
     "output_type": "execute_result"
    }
   ],
   "source": [
    "df_riders.nunique()"
   ]
  },
  {
   "cell_type": "markdown",
   "metadata": {},
   "source": [
    "### Join Riders DF"
   ]
  },
  {
   "cell_type": "code",
   "execution_count": 1013,
   "metadata": {},
   "outputs": [],
   "source": [
    "df_train = pd.merge(df_train, df_riders, on='Rider_Id')\n",
    "df_test = pd.merge(df_test, df_riders, on='Rider_Id')"
   ]
  },
  {
   "cell_type": "markdown",
   "metadata": {},
   "source": [
    "# <font color=green>5. Feature Engineering</font>"
   ]
  },
  {
   "cell_type": "markdown",
   "metadata": {},
   "source": [
    "### Placement Time"
   ]
  },
  {
   "cell_type": "code",
   "execution_count": 1015,
   "metadata": {},
   "outputs": [],
   "source": [
    "def placement_time(df): # Takes a dataframe \n",
    "    \n",
    "    \"\"\"Set the placement time off day for the order\"\"\"\n",
    "    \n",
    "    time_of_day = [] # List to convert to column with the time of day\n",
    "    \n",
    "    for t in pd.to_datetime(df.Placement___Time).dt.hour:\n",
    "        if t >= 6 and t < 10:\n",
    "            time_of_day.append(\"Early_Morning\")  # \"Early_Morning\"\n",
    "        elif t >= 10 and t < 12:\n",
    "            time_of_day.append(\"Late_Morning\")  # \"Late_Morning\"\n",
    "        elif t >= 12 and t < 15:\n",
    "            time_of_day.append(\"Early_Afternoon\")  # \"Early_Afternoon\"\n",
    "        elif t >= 15 and t < 18:\n",
    "            time_of_day.append(\"Late_Afternoon\")  # \"Late_Afternoon\"\n",
    "        else:\n",
    "            time_of_day.append(\"Night\")  # \"Night\"\n",
    "            \n",
    "    return time_of_day "
   ]
  },
  {
   "cell_type": "code",
   "execution_count": 1016,
   "metadata": {
    "scrolled": true
   },
   "outputs": [],
   "source": [
    "df_train[\"Placement_Time_Of_Day\"] = placement_time(df_train)\n",
    "df_test[\"Placement_Time_Of_Day\"] = placement_time(df_test)"
   ]
  },
  {
   "cell_type": "code",
   "execution_count": 1020,
   "metadata": {},
   "outputs": [
    {
     "data": {
      "text/plain": [
       "<matplotlib.axes._subplots.AxesSubplot at 0x1de3598c448>"
      ]
     },
     "execution_count": 1020,
     "metadata": {},
     "output_type": "execute_result"
    },
    {
     "data": {
      "image/png": "[encoded data removed]",
      "text/plain": [
       "<Figure size 432x288 with 1 Axes>"
      ]
     },
     "metadata": {
      "needs_background": "light"
     },
     "output_type": "display_data"
    }
   ],
   "source": [
    "df_train.Placement_Time_Of_Day.value_counts().plot(kind=\"bar\")"
   ]
  },
  {
   "cell_type": "markdown",
   "metadata": {},
   "source": [
    "### Orders per day of Month"
   ]
  },
  {
   "cell_type": "code",
   "execution_count": 1021,
   "metadata": {},
   "outputs": [],
   "source": [
    "def orders_day_month(df):\n",
    "    \n",
    "    \"\"\"Checks how many orders on that specific day of month and categorizes\"\"\"\n",
    "    \n",
    "    orders = []\n",
    "    ord_m = df.groupby(['Day_of_Month'])['Order_No'].transform('count') # Total orders on each day\n",
    "    q1 = np.quantile(ord_m, 0.25)\n",
    "    q2 = np.quantile(ord_m, 0.5)\n",
    "    q3 = np.quantile(ord_m, 0.75)    \n",
    "    \n",
    "    for o in ord_m: #Group If there was much or little\n",
    "        if o < q1:\n",
    "            orders.append(\"Q1\")        \n",
    "        elif o >= q1 and o < q2:\n",
    "            orders.append(\"Q2\")\n",
    "        elif o >= q2 and o < q3:\n",
    "            orders.append(\"Q3\")\n",
    "        else:\n",
    "            orders.append(\"Q4\")\n",
    "            \n",
    "    return orders"
   ]
  },
  {
   "cell_type": "code",
   "execution_count": 1022,
   "metadata": {},
   "outputs": [],
   "source": [
    "df_train[\"Orders_On_Day\"] = orders_day_month(df_train)\n",
    "df_test[\"Orders_On_Day\"] = orders_day_month(df_test)"
   ]
  },
  {
   "cell_type": "markdown",
   "metadata": {},
   "source": [
    "### Average distance for User_Id"
   ]
  },
  {
   "cell_type": "code",
   "execution_count": 1023,
   "metadata": {},
   "outputs": [],
   "source": [
    "def average_user_distance(df):\n",
    "    \n",
    "    \n",
    "    \"\"\"Average distance for that specific user\"\"\"\n",
    "    \n",
    "    ave_dist = []\n",
    "    ave_user_dist = df.groupby(['User_Id'])['Distance__KM_'].transform('mean') #average distance for each user\n",
    "    q1 = np.quantile(ave_user_dist, 0.25)\n",
    "    q2 = np.quantile(ave_user_dist, 0.5)\n",
    "    q3 = np.quantile(ave_user_dist, 0.75)    \n",
    "    \n",
    "    for d in ave_user_dist: #Group Distances into Q1, Q2, Q3, Q4\n",
    "        if d < q1:\n",
    "            ave_dist.append(\"Q1\")        \n",
    "        elif d >= q1 and d < q2:\n",
    "            ave_dist.append(\"Q2\")\n",
    "        elif d >= q2 and d < q3:\n",
    "            ave_dist.append(\"Q3\")\n",
    "        else:\n",
    "            ave_dist.append(\"Q4\")\n",
    "            \n",
    "    return ave_dist"
   ]
  },
  {
   "cell_type": "code",
   "execution_count": 1024,
   "metadata": {},
   "outputs": [],
   "source": [
    "df_train[\"Average_User_Dist\"] = average_user_distance(df_train)\n",
    "df_test[\"Average_User_Dist\"] = average_user_distance(df_test)"
   ]
  },
  {
   "cell_type": "markdown",
   "metadata": {},
   "source": [
    "### Average distance for Rider_Id"
   ]
  },
  {
   "cell_type": "code",
   "execution_count": 1025,
   "metadata": {},
   "outputs": [],
   "source": [
    "def average_rider_distance(df):\n",
    "    \n",
    "    \"\"\"Average distance for that specific rider\"\"\"\n",
    "    \n",
    "    ave_dist = []\n",
    "    ave_user_dist = df.groupby(['Rider_Id'])['Distance__KM_'].transform('mean') #average distance for each user\n",
    "    q1 = np.quantile(ave_user_dist, 0.25)\n",
    "    q2 = np.quantile(ave_user_dist, 0.5)\n",
    "    q3 = np.quantile(ave_user_dist, 0.75)    \n",
    "    \n",
    "    for d in ave_user_dist: #Group Distances into Q1, Q2, Q3, Q4\n",
    "        if d < q1:\n",
    "            ave_dist.append(\"Q1\")        \n",
    "        elif d >= q1 and d < q2:\n",
    "            ave_dist.append(\"Q2\")\n",
    "        elif d >= q2 and d < q3:\n",
    "            ave_dist.append(\"Q3\")\n",
    "        else:\n",
    "            ave_dist.append(\"Q4\")\n",
    "            \n",
    "    return ave_dist"
   ]
  },
  {
   "cell_type": "code",
   "execution_count": 1026,
   "metadata": {},
   "outputs": [],
   "source": [
    "df_train[\"Average_Rider_Dist\"] = average_rider_distance(df_train)\n",
    "df_test[\"Average_Rider_Dist\"] = average_rider_distance(df_test)"
   ]
  },
  {
   "cell_type": "markdown",
   "metadata": {},
   "source": [
    "### Distance Bracket"
   ]
  },
  {
   "cell_type": "code",
   "execution_count": 1027,
   "metadata": {},
   "outputs": [],
   "source": [
    "dist_mean = df_train.Distance__KM_.mean()\n",
    "def dist_bracket(df):\n",
    "    \n",
    "    \"\"\"Checks which category the distance falls under\"\"\"\n",
    "    \n",
    "    ave_dist = []\n",
    "    q1 = np.quantile(df_train.Distance__KM_, 0.25)\n",
    "    q2 = np.quantile(df_train.Distance__KM_, 0.5)\n",
    "    q3 = np.quantile(df_train.Distance__KM_, 0.75)    \n",
    "    \n",
    "    for d in df.Distance__KM_: \n",
    "        if d < q1:\n",
    "            ave_dist.append(\"Q1\")        \n",
    "        elif d >= q1 and d < q2:\n",
    "            ave_dist.append(\"Q2\")\n",
    "        elif d >= q2 and d < q3:\n",
    "            ave_dist.append(\"Q3\")\n",
    "        else:\n",
    "            ave_dist.append(\"Q4\")\n",
    "            \n",
    "    return ave_dist"
   ]
  },
  {
   "cell_type": "code",
   "execution_count": 1028,
   "metadata": {},
   "outputs": [],
   "source": [
    "df_train[\"Distance_Bracket\"] = dist_bracket(df_train)\n",
    "df_test[\"Distance_Bracket\"] = dist_bracket(df_test)"
   ]
  },
  {
   "cell_type": "markdown",
   "metadata": {},
   "source": [
    "### DROP Redundant and Transformed Columns"
   ]
  },
  {
   "cell_type": "code",
   "execution_count": 1029,
   "metadata": {},
   "outputs": [],
   "source": [
    "placement_drop = ['Placement___Day_of_Month', 'Placement___Weekday__Mo___1_', 'Placement___Time']\n",
    "confirmation_drop = ['Confirmation___Day_of_Month', 'Confirmation___Weekday__Mo___1_', 'Confirmation___Time']\n",
    "arrival_at_pickup_drop = ['Arrival_at_Pickup___Day_of_Month', 'Arrival_at_Pickup___Weekday__Mo___1_', 'Arrival_at_Pickup___Time']\n",
    "pickup_drop = ['Pickup___Day_of_Month', 'Pickup___Weekday__Mo___1_', 'Pickup___Time']\n",
    "arrival_dest_drop = ['Arrival_at_Destination___Day_of_Month', 'Arrival_at_Destination___Weekday__Mo___1_', 'Arrival_at_Destination___Time']"
   ]
  },
  {
   "cell_type": "code",
   "execution_count": 1030,
   "metadata": {},
   "outputs": [],
   "source": [
    "df_train.drop('User_Id', axis=1,inplace=True)\n",
    "df_test.drop('User_Id', axis=1,inplace=True)"
   ]
  },
  {
   "cell_type": "code",
   "execution_count": 1031,
   "metadata": {},
   "outputs": [],
   "source": [
    "df_train.drop('Rider_Id', axis=1,inplace=True)\n",
    "df_test.drop('Rider_Id', axis=1,inplace=True)"
   ]
  },
  {
   "cell_type": "markdown",
   "metadata": {},
   "source": [
    "#### TRAIN DATA"
   ]
  },
  {
   "cell_type": "code",
   "execution_count": 1032,
   "metadata": {},
   "outputs": [],
   "source": [
    "df_train.drop(placement_drop, axis=1, inplace=True)\n",
    "df_train.drop(confirmation_drop, axis=1, inplace=True)\n",
    "df_train.drop(arrival_at_pickup_drop, axis=1, inplace=True)\n",
    "df_train.drop(pickup_drop, axis=1, inplace=True)\n",
    "df_train.drop(arrival_dest_drop, axis=1, inplace=True)"
   ]
  },
  {
   "cell_type": "markdown",
   "metadata": {},
   "source": [
    "#### TEST DATA"
   ]
  },
  {
   "cell_type": "code",
   "execution_count": 1033,
   "metadata": {},
   "outputs": [],
   "source": [
    "df_test.drop(placement_drop, axis=1, inplace=True)\n",
    "df_test.drop(confirmation_drop, axis=1, inplace=True)\n",
    "df_test.drop(arrival_at_pickup_drop, axis=1, inplace=True)\n",
    "df_test.drop(pickup_drop, axis=1, inplace=True)"
   ]
  },
  {
   "cell_type": "markdown",
   "metadata": {},
   "source": [
    "### Set Indices"
   ]
  },
  {
   "cell_type": "code",
   "execution_count": 1034,
   "metadata": {},
   "outputs": [
    {
     "data": {
      "text/html": [
       "<div>\n",
       "<style scoped>\n",
       "    .dataframe tbody tr th:only-of-type {\n",
       "        vertical-align: middle;\n",
       "    }\n",
       "\n",
       "    .dataframe tbody tr th {\n",
       "        vertical-align: top;\n",
       "    }\n",
       "\n",
       "    .dataframe thead th {\n",
       "        text-align: right;\n",
       "    }\n",
       "</style>\n",
       "<table border=\"1\" class=\"dataframe\">\n",
       "  <thead>\n",
       "    <tr style=\"text-align: right;\">\n",
       "      <th></th>\n",
       "      <th>Platform_Type</th>\n",
       "      <th>Personal_or_Business</th>\n",
       "      <th>Distance__KM_</th>\n",
       "      <th>Temperature</th>\n",
       "      <th>Precipitation_in_millimeters</th>\n",
       "      <th>Pickup_Lat</th>\n",
       "      <th>Pickup_Long</th>\n",
       "      <th>Destination_Lat</th>\n",
       "      <th>Destination_Long</th>\n",
       "      <th>Time_from_Pickup_to_Arrival</th>\n",
       "      <th>...</th>\n",
       "      <th>Time_PickUp_Arrival_To_PickUp</th>\n",
       "      <th>No_Of_Orders</th>\n",
       "      <th>Age</th>\n",
       "      <th>Average_Rating</th>\n",
       "      <th>No_of_Ratings</th>\n",
       "      <th>Placement_Time_Of_Day</th>\n",
       "      <th>Orders_On_Day</th>\n",
       "      <th>Average_User_Dist</th>\n",
       "      <th>Average_Rider_Dist</th>\n",
       "      <th>Distance_Bracket</th>\n",
       "    </tr>\n",
       "    <tr>\n",
       "      <th>Order_No</th>\n",
       "      <th></th>\n",
       "      <th></th>\n",
       "      <th></th>\n",
       "      <th></th>\n",
       "      <th></th>\n",
       "      <th></th>\n",
       "      <th></th>\n",
       "      <th></th>\n",
       "      <th></th>\n",
       "      <th></th>\n",
       "      <th></th>\n",
       "      <th></th>\n",
       "      <th></th>\n",
       "      <th></th>\n",
       "      <th></th>\n",
       "      <th></th>\n",
       "      <th></th>\n",
       "      <th></th>\n",
       "      <th></th>\n",
       "      <th></th>\n",
       "      <th></th>\n",
       "    </tr>\n",
       "  </thead>\n",
       "  <tbody>\n",
       "    <tr>\n",
       "      <td>Order_No_4211</td>\n",
       "      <td>3</td>\n",
       "      <td>Business</td>\n",
       "      <td>4</td>\n",
       "      <td>20.4</td>\n",
       "      <td>0.0</td>\n",
       "      <td>-1.317755</td>\n",
       "      <td>36.830370</td>\n",
       "      <td>-1.300406</td>\n",
       "      <td>36.829741</td>\n",
       "      <td>745</td>\n",
       "      <td>...</td>\n",
       "      <td>1363</td>\n",
       "      <td>1637</td>\n",
       "      <td>1309</td>\n",
       "      <td>13.8</td>\n",
       "      <td>549</td>\n",
       "      <td>Early_Morning</td>\n",
       "      <td>Q2</td>\n",
       "      <td>Q1</td>\n",
       "      <td>Q3</td>\n",
       "      <td>Q1</td>\n",
       "    </tr>\n",
       "    <tr>\n",
       "      <td>Order_No_27440</td>\n",
       "      <td>3</td>\n",
       "      <td>Personal</td>\n",
       "      <td>20</td>\n",
       "      <td>24.5</td>\n",
       "      <td>0.0</td>\n",
       "      <td>-1.326774</td>\n",
       "      <td>36.787807</td>\n",
       "      <td>-1.356237</td>\n",
       "      <td>36.904295</td>\n",
       "      <td>2886</td>\n",
       "      <td>...</td>\n",
       "      <td>381</td>\n",
       "      <td>1637</td>\n",
       "      <td>1309</td>\n",
       "      <td>13.8</td>\n",
       "      <td>549</td>\n",
       "      <td>Late_Afternoon</td>\n",
       "      <td>Q4</td>\n",
       "      <td>Q4</td>\n",
       "      <td>Q3</td>\n",
       "      <td>Q4</td>\n",
       "    </tr>\n",
       "    <tr>\n",
       "      <td>Order_No_14170</td>\n",
       "      <td>3</td>\n",
       "      <td>Business</td>\n",
       "      <td>6</td>\n",
       "      <td>24.7</td>\n",
       "      <td>0.0</td>\n",
       "      <td>-1.255189</td>\n",
       "      <td>36.782203</td>\n",
       "      <td>-1.273412</td>\n",
       "      <td>36.818206</td>\n",
       "      <td>2615</td>\n",
       "      <td>...</td>\n",
       "      <td>786</td>\n",
       "      <td>1637</td>\n",
       "      <td>1309</td>\n",
       "      <td>13.8</td>\n",
       "      <td>549</td>\n",
       "      <td>Early_Afternoon</td>\n",
       "      <td>Q1</td>\n",
       "      <td>Q2</td>\n",
       "      <td>Q3</td>\n",
       "      <td>Q2</td>\n",
       "    </tr>\n",
       "    <tr>\n",
       "      <td>Order_No_21727</td>\n",
       "      <td>3</td>\n",
       "      <td>Personal</td>\n",
       "      <td>18</td>\n",
       "      <td>15.2</td>\n",
       "      <td>0.0</td>\n",
       "      <td>-1.290315</td>\n",
       "      <td>36.757377</td>\n",
       "      <td>-1.223520</td>\n",
       "      <td>36.802061</td>\n",
       "      <td>2986</td>\n",
       "      <td>...</td>\n",
       "      <td>202</td>\n",
       "      <td>1637</td>\n",
       "      <td>1309</td>\n",
       "      <td>13.8</td>\n",
       "      <td>549</td>\n",
       "      <td>Early_Morning</td>\n",
       "      <td>Q1</td>\n",
       "      <td>Q4</td>\n",
       "      <td>Q3</td>\n",
       "      <td>Q4</td>\n",
       "    </tr>\n",
       "    <tr>\n",
       "      <td>Order_No_8301</td>\n",
       "      <td>2</td>\n",
       "      <td>Personal</td>\n",
       "      <td>7</td>\n",
       "      <td>19.2</td>\n",
       "      <td>0.0</td>\n",
       "      <td>-1.273524</td>\n",
       "      <td>36.799220</td>\n",
       "      <td>-1.300431</td>\n",
       "      <td>36.752427</td>\n",
       "      <td>1602</td>\n",
       "      <td>...</td>\n",
       "      <td>220</td>\n",
       "      <td>1637</td>\n",
       "      <td>1309</td>\n",
       "      <td>13.8</td>\n",
       "      <td>549</td>\n",
       "      <td>Late_Morning</td>\n",
       "      <td>Q2</td>\n",
       "      <td>Q1</td>\n",
       "      <td>Q3</td>\n",
       "      <td>Q2</td>\n",
       "    </tr>\n",
       "  </tbody>\n",
       "</table>\n",
       "<p>5 rows × 24 columns</p>\n",
       "</div>"
      ],
      "text/plain": [
       "                Platform_Type Personal_or_Business  Distance__KM_  \\\n",
       "Order_No                                                            \n",
       "Order_No_4211               3             Business              4   \n",
       "Order_No_27440              3             Personal             20   \n",
       "Order_No_14170              3             Business              6   \n",
       "Order_No_21727              3             Personal             18   \n",
       "Order_No_8301               2             Personal              7   \n",
       "\n",
       "                Temperature  Precipitation_in_millimeters  Pickup_Lat  \\\n",
       "Order_No                                                                \n",
       "Order_No_4211          20.4                           0.0   -1.317755   \n",
       "Order_No_27440         24.5                           0.0   -1.326774   \n",
       "Order_No_14170         24.7                           0.0   -1.255189   \n",
       "Order_No_21727         15.2                           0.0   -1.290315   \n",
       "Order_No_8301          19.2                           0.0   -1.273524   \n",
       "\n",
       "                Pickup_Long  Destination_Lat  Destination_Long  \\\n",
       "Order_No                                                         \n",
       "Order_No_4211     36.830370        -1.300406         36.829741   \n",
       "Order_No_27440    36.787807        -1.356237         36.904295   \n",
       "Order_No_14170    36.782203        -1.273412         36.818206   \n",
       "Order_No_21727    36.757377        -1.223520         36.802061   \n",
       "Order_No_8301     36.799220        -1.300431         36.752427   \n",
       "\n",
       "                Time_from_Pickup_to_Arrival  ...  \\\n",
       "Order_No                                     ...   \n",
       "Order_No_4211                           745  ...   \n",
       "Order_No_27440                         2886  ...   \n",
       "Order_No_14170                         2615  ...   \n",
       "Order_No_21727                         2986  ...   \n",
       "Order_No_8301                          1602  ...   \n",
       "\n",
       "                Time_PickUp_Arrival_To_PickUp  No_Of_Orders   Age  \\\n",
       "Order_No                                                            \n",
       "Order_No_4211                            1363          1637  1309   \n",
       "Order_No_27440                            381          1637  1309   \n",
       "Order_No_14170                            786          1637  1309   \n",
       "Order_No_21727                            202          1637  1309   \n",
       "Order_No_8301                             220          1637  1309   \n",
       "\n",
       "                Average_Rating  No_of_Ratings  Placement_Time_Of_Day  \\\n",
       "Order_No                                                               \n",
       "Order_No_4211             13.8            549          Early_Morning   \n",
       "Order_No_27440            13.8            549         Late_Afternoon   \n",
       "Order_No_14170            13.8            549        Early_Afternoon   \n",
       "Order_No_21727            13.8            549          Early_Morning   \n",
       "Order_No_8301             13.8            549           Late_Morning   \n",
       "\n",
       "                Orders_On_Day  Average_User_Dist  Average_Rider_Dist  \\\n",
       "Order_No                                                               \n",
       "Order_No_4211              Q2                 Q1                  Q3   \n",
       "Order_No_27440             Q4                 Q4                  Q3   \n",
       "Order_No_14170             Q1                 Q2                  Q3   \n",
       "Order_No_21727             Q1                 Q4                  Q3   \n",
       "Order_No_8301              Q2                 Q1                  Q3   \n",
       "\n",
       "               Distance_Bracket  \n",
       "Order_No                         \n",
       "Order_No_4211                Q1  \n",
       "Order_No_27440               Q4  \n",
       "Order_No_14170               Q2  \n",
       "Order_No_21727               Q4  \n",
       "Order_No_8301                Q2  \n",
       "\n",
       "[5 rows x 24 columns]"
      ]
     },
     "execution_count": 1034,
     "metadata": {},
     "output_type": "execute_result"
    }
   ],
   "source": [
    "df_train.set_index(\"Order_No\", inplace=True)\n",
    "df_test.set_index(\"Order_No\", inplace=True)\n",
    "df_train.head()"
   ]
  },
  {
   "cell_type": "markdown",
   "metadata": {},
   "source": [
    "# <font color=green>6. One Hot Encoding</font>"
   ]
  },
  {
   "cell_type": "code",
   "execution_count": 1035,
   "metadata": {},
   "outputs": [],
   "source": [
    "# Rename WeekDay into Days\n",
    "\n",
    "import calendar\n",
    "\n",
    "weekdays = list(calendar.day_abbr)\n",
    "\n",
    "df_train.Weekday = df_train.Weekday.apply(lambda x: weekdays[x-1])\n",
    "df_test.Weekday = df_test.Weekday.apply(lambda x: weekdays[x-1])"
   ]
  },
  {
   "cell_type": "code",
   "execution_count": 1036,
   "metadata": {},
   "outputs": [],
   "source": [
    "# Set platform to object\n",
    "df_train.Platform_Type = df_train.Platform_Type.astype('object')\n",
    "df_test.Platform_Type = df_test.Platform_Type.astype('object')"
   ]
  },
  {
   "cell_type": "code",
   "execution_count": 1037,
   "metadata": {},
   "outputs": [],
   "source": [
    "def encode_cols(df):\n",
    "    \n",
    "    \n",
    "    \"\"\"Encodes Categorical Columns\"\"\"\n",
    "    \n",
    "    df = df.copy()\n",
    "    encode_cols = []\n",
    "    for c in df.columns:\n",
    "        if df[c].dtype == 'O':\n",
    "            encode_cols.append(c)\n",
    "    return pd.get_dummies(df,columns=encode_cols)"
   ]
  },
  {
   "cell_type": "markdown",
   "metadata": {},
   "source": [
    "### <font color=orange>Model testing DataFrames</font>"
   ]
  },
  {
   "cell_type": "code",
   "execution_count": 1038,
   "metadata": {},
   "outputs": [],
   "source": [
    "m_df_train = encode_cols(df_train) # Use diffferent reference so that when change data, processed dfs don't change\n",
    "m_df_test = encode_cols(df_test)\n",
    "\n",
    "\n",
    "def reset_dfs():\n",
    "    \n",
    "    \"\"\"Resets the dataframes to the preprocessed mode\"\"\"\n",
    "    \n",
    "    global m_df_train\n",
    "    m_df_train = encode_cols(df_train)\n",
    "    global m_df_test\n",
    "    m_df_test = encode_cols(df_test)"
   ]
  },
  {
   "cell_type": "markdown",
   "metadata": {},
   "source": [
    "### <font color=purple>X and y split</font>"
   ]
  },
  {
   "cell_type": "code",
   "execution_count": 981,
   "metadata": {},
   "outputs": [],
   "source": [
    "X = m_df_train.drop([\"Time_from_Pickup_to_Arrival\"], axis=1)\n",
    "y = m_df_train.Time_from_Pickup_to_Arrival\n",
    "x_train, x_test, y_train,y_test = train_test_split(X,y,test_size=0.2,random_state=24)"
   ]
  },
  {
   "cell_type": "markdown",
   "metadata": {},
   "source": [
    "# <font color=green>7. Fit & Test RandomForestRegressor Model - Function</font>"
   ]
  },
  {
   "cell_type": "code",
   "execution_count": 1074,
   "metadata": {
    "scrolled": false
   },
   "outputs": [],
   "source": [
    "RF = RandomForestRegressor(n_estimators=200, max_features='log2', max_depth=10, min_samples_leaf=4)\n",
    "RF.fit(x_train,y_train)\n",
    "def model_evaluation(df):\n",
    "    \n",
    "    \"\"\"Fits random regressor model and returns RMSE and R squared for train and test data\"\"\"\n",
    "    \n",
    "    # X and y split\n",
    "    global X    \n",
    "    X = df.drop([\"Time_from_Pickup_to_Arrival\"], axis=1)\n",
    "    global y\n",
    "    y = df.Time_from_Pickup_to_Arrival\n",
    "    global x_train, x_test, y_train,y_test\n",
    "    x_train, x_test, y_train,y_test = train_test_split(X,y,test_size=0.2,random_state=24)\n",
    "    \n",
    "    # Fit Model\n",
    "    global RF\n",
    "    RF = RandomForestRegressor(n_estimators=1800, max_features='sqrt', min_samples_leaf=2, max_depth=60, min_samples_split=5)\n",
    "    RF.fit(x_train,y_train)\n",
    "\n",
    "    # Get predictions\n",
    "    y_pred = RF.predict(x_test)\n",
    "    y_test_pred = RF.predict(x_train)\n",
    "\n",
    "    # Test Model Performance (Compute RMSE and R Squared)\n",
    "    RMSE_train = np.sqrt(mean_squared_error(y_train,y_test_pred))\n",
    "    RMSE_test = np.sqrt(mean_squared_error(y_test,y_pred))\n",
    "    R_train = round(RF.score(x_train, y_train),2)\n",
    "    R_test = round(RF.score(x_test, y_test),2)\n",
    "\n",
    "    print(\"RMSE_train:\",RMSE_train,\"\\nRMSE_test:\",RMSE_test,\"\\nTrain R^2:\",R_train,\"\\nTest  R^2:\",R_test)"
   ]
  },
  {
   "cell_type": "markdown",
   "metadata": {},
   "source": [
    "### <font color=red>Get Model Results (Perfrmance Evaluation)</font>"
   ]
  },
  {
   "cell_type": "code",
   "execution_count": 1048,
   "metadata": {
    "scrolled": true
   },
   "outputs": [
    {
     "name": "stdout",
     "output_type": "stream",
     "text": [
      "RMSE_train: 572.3965749599882 \n",
      "RMSE_test: 732.036407279481 \n",
      "Train R^2: 0.67 \n",
      "Test  R^2: 0.42\n"
     ]
    }
   ],
   "source": [
    "reset_dfs()\n",
    "model_evaluation(m_df_train)"
   ]
  },
  {
   "cell_type": "markdown",
   "metadata": {},
   "source": [
    "# <font color=green>8. Model Analysis and Accuracy Improvement</font>"
   ]
  },
  {
   "cell_type": "markdown",
   "metadata": {},
   "source": [
    "### <font color=orange>Random Hyperparameter Grid</font>"
   ]
  },
  {
   "cell_type": "code",
   "execution_count": 1068,
   "metadata": {},
   "outputs": [
    {
     "name": "stdout",
     "output_type": "stream",
     "text": [
      "{'bootstrap': [True, False],\n",
      " 'max_depth': [10, 20, 30, 40, 50, 60, 70, 80, 90, 100, 110, None],\n",
      " 'max_features': ['log2', 'sqrt'],\n",
      " 'min_samples_leaf': [1, 2, 4],\n",
      " 'min_samples_split': [2, 5, 10],\n",
      " 'n_estimators': [200, 400, 600, 800, 1000, 1200, 1400, 1600, 1800, 2000]}\n"
     ]
    }
   ],
   "source": [
    "from sklearn.model_selection import RandomizedSearchCV\n",
    "\n",
    "from pprint import pprint\n",
    "\n",
    "# Number of trees in random forest\n",
    "n_estimators = [int(x) for x in np.linspace(start = 200, stop = 2000, num = 10)]\n",
    "# Number of features to consider at every split\n",
    "max_features = ['log2', 'sqrt']\n",
    "# Maximum number of levels in tree\n",
    "max_depth = [int(x) for x in np.linspace(10, 110, num = 11)]\n",
    "max_depth.append(None)\n",
    "# Minimum number of samples required to split a node\n",
    "min_samples_split = [2, 5, 10]\n",
    "# Minimum number of samples required at each leaf node\n",
    "min_samples_leaf = [1, 2, 4]\n",
    "# Method of selecting samples for training each tree\n",
    "bootstrap = [True, False]\n",
    "# Create the random grid\n",
    "random_grid = {'n_estimators': n_estimators,\n",
    "               'max_features': max_features,\n",
    "               'max_depth': max_depth,\n",
    "               'min_samples_split': min_samples_split,\n",
    "               'min_samples_leaf': min_samples_leaf,\n",
    "               'bootstrap': bootstrap}\n",
    "pprint(random_grid)"
   ]
  },
  {
   "cell_type": "markdown",
   "metadata": {},
   "source": [
    "### <font color=orange>Feauture Selection</font>"
   ]
  },
  {
   "cell_type": "code",
   "execution_count": 1041,
   "metadata": {
    "scrolled": true
   },
   "outputs": [
    {
     "data": {
      "text/plain": [
       "<matplotlib.axes._subplots.AxesSubplot at 0x1de34680248>"
      ]
     },
     "execution_count": 1041,
     "metadata": {},
     "output_type": "execute_result"
    },
    {
     "data": {
      "image/png": "[encoded data removed]",
      "text/plain": [
       "<Figure size 432x288 with 1 Axes>"
      ]
     },
     "metadata": {
      "needs_background": "light"
     },
     "output_type": "display_data"
    }
   ],
   "source": [
    "# Feature Importance\n",
    "\n",
    "feat_importances = pd.Series(RF.feature_importances_, index=x_train.columns)\n",
    "feat_importances.sort_values(ascending=False,inplace=True)\n",
    "feat_importances.plot(kind='bar')"
   ]
  },
  {
   "cell_type": "code",
   "execution_count": 1043,
   "metadata": {},
   "outputs": [
    {
     "data": {
      "text/plain": [
       "Distance__KM_                            18.426472\n",
       "Distance_Bracket_Q4                      10.211096\n",
       "Distance_Bracket_Q1                       7.466696\n",
       "Destination_Long                          5.320959\n",
       "Time_Confirm_To_PickUp_Arrival            4.887650\n",
       "Destination_Lat                           4.832938\n",
       "Time_PickUp_Arrival_To_PickUp             4.605445\n",
       "Pickup_Long                               4.004924\n",
       "Pickup_Lat                                3.794663\n",
       "Time_Placement_To_Confirm                 3.595868\n",
       "No_Of_Orders                              3.269281\n",
       "Age                                       3.165330\n",
       "No_of_Ratings                             2.874868\n",
       "Average_Rating                            2.713740\n",
       "Average_User_Dist_Q4                      2.505133\n",
       "Temperature                               2.437373\n",
       "Distance_Bracket_Q2                       2.435098\n",
       "Day_of_Month                              2.181184\n",
       "Distance_Bracket_Q3                       2.163147\n",
       "Average_User_Dist_Q1                      1.075263\n",
       "Average_Rider_Dist_Q4                     0.564060\n",
       "Placement_Time_Of_Day_Early_Afternoon     0.478682\n",
       "Average_Rider_Dist_Q1                     0.468842\n",
       "Orders_On_Day_Q4                          0.415997\n",
       "Average_User_Dist_Q3                      0.384263\n",
       "Weekday_Tue                               0.374399\n",
       "Average_User_Dist_Q2                      0.369696\n",
       "Placement_Time_Of_Day_Late_Morning        0.365866\n",
       "Orders_On_Day_Q2                          0.363388\n",
       "Average_Rider_Dist_Q2                     0.355021\n",
       "Weekday_Fri                               0.346199\n",
       "Weekday_Thu                               0.341347\n",
       "Orders_On_Day_Q1                          0.339968\n",
       "Placement_Time_Of_Day_Late_Afternoon      0.335595\n",
       "Average_Rider_Dist_Q3                     0.333684\n",
       "Weekday_Mon                               0.328798\n",
       "Orders_On_Day_Q3                          0.323197\n",
       "Weekday_Wed                               0.322389\n",
       "Placement_Time_Of_Day_Early_Morning       0.247675\n",
       "Personal_or_Business_Personal             0.217117\n",
       "Personal_or_Business_Business             0.200337\n",
       "Platform_Type_3                           0.166619\n",
       "Platform_Type_1                           0.122359\n",
       "Weekday_Sat                               0.110513\n",
       "Precipitation_in_millimeters              0.070696\n",
       "Platform_Type_2                           0.056419\n",
       "Placement_Time_Of_Day_Night               0.020994\n",
       "Weekday_Sun                               0.008570\n",
       "Platform_Type_4                           0.000181\n",
       "dtype: float64"
      ]
     },
     "execution_count": 1043,
     "metadata": {},
     "output_type": "execute_result"
    }
   ],
   "source": [
    "feat_importances.apply(lambda x: x*100) # Rank most predictive features"
   ]
  },
  {
   "cell_type": "markdown",
   "metadata": {},
   "source": [
    "#### Remove unpredictive features"
   ]
  },
  {
   "cell_type": "code",
   "execution_count": 1075,
   "metadata": {
    "scrolled": false
   },
   "outputs": [
    {
     "name": "stdout",
     "output_type": "stream",
     "text": [
      "RMSE_train: 436.1648115550154 \n",
      "RMSE_test: 723.6032680339845 \n",
      "Train R^2: 0.81 \n",
      "Test  R^2: 0.44\n",
      "\n",
      "After Removing Features \n",
      "\n",
      "RMSE_train: 429.1339475942111 \n",
      "RMSE_test: 717.239207447347 \n",
      "Train R^2: 0.81 \n",
      "Test  R^2: 0.45\n"
     ]
    }
   ],
   "source": [
    "reset_dfs()\n",
    "model_evaluation(m_df_train) # Get all features again\n",
    "\n",
    "print(\"\\nAfter Removing Features \\n\")\n",
    "\n",
    "feat_importances = pd.Series(RF.feature_importances_, index=x_train.columns)\n",
    "feat_importances.sort_values(ascending=False,inplace=True)\n",
    "\n",
    "feats = feat_importances.reset_index()\n",
    "feats.columns = [\"feature\", \"value\"]\n",
    "feat = list(feats.feature[14:])\n",
    "m_df_train.drop(feat, axis=1, inplace=True)\n",
    "m_df_test.drop(feat, axis=1, inplace=True)\n",
    "\n",
    "# Re train model after removing unpredictive features\n",
    "model_evaluation(m_df_train)"
   ]
  },
  {
   "cell_type": "code",
   "execution_count": 1060,
   "metadata": {},
   "outputs": [
    {
     "data": {
      "text/plain": [
       "<matplotlib.axes._subplots.AxesSubplot at 0x1de35de18c8>"
      ]
     },
     "execution_count": 1060,
     "metadata": {},
     "output_type": "execute_result"
    },
    {
     "data": {
      "image/png": "[encoded data removed]",
      "text/plain": [
       "<Figure size 432x288 with 1 Axes>"
      ]
     },
     "metadata": {
      "needs_background": "light"
     },
     "output_type": "display_data"
    }
   ],
   "source": [
    "# Feature importance after removing unpredictive features\n",
    "\n",
    "feat_importances = pd.Series(RF.feature_importances_, index=x_train.columns)\n",
    "feat_importances.sort_values(ascending=False,inplace=True)\n",
    "feat_importances.plot(kind='barh', color='orange')"
   ]
  },
  {
   "cell_type": "markdown",
   "metadata": {},
   "source": [
    "### Cross Validation"
   ]
  },
  {
   "cell_type": "code",
   "execution_count": null,
   "metadata": {
    "scrolled": true
   },
   "outputs": [],
   "source": [
    "random_s = []\n",
    "rmse = []\n",
    "\n",
    "for i in range(100):\n",
    "    x_train_v, x_test_v, y_train_v, y_test_v = train_test_split(x_train,y_train,test_size=0.2,random_state=i)\n",
    "    \n",
    "    RF = RandomForestRegressor(n_estimators=1800, max_features='sqrt', min_samples_leaf=2, max_depth=60, min_samples_split=5)\n",
    "    RF.fit(x_train_v,y_train_v)\n",
    "    \n",
    "    y_pred = RF.predict(x_test_v)\n",
    "    rmse.append(np.sqrt(mean_squared_error(y_test_v,y_pred)))\n",
    "    random_s.append(i)"
   ]
  },
  {
   "cell_type": "markdown",
   "metadata": {},
   "source": [
    "# <font color=green>9. Predict and Save on Test Data</font>"
   ]
  },
  {
   "cell_type": "code",
   "execution_count": 1073,
   "metadata": {
    "scrolled": true
   },
   "outputs": [],
   "source": [
    "sendy_pred = (rf_random.predict(m_df_test))\n",
    "df_sendy_pred = pd.DataFrame(sendy_pred, columns=['Time from Pickup to Arrival'], index=m_df_test.index)\n",
    "df_sendy_pred.apply(lambda x: round(x, 1)).reset_index().to_csv('LondananiKhomolaSubmission.csv', index=False)"
   ]
  },
  {
   "cell_type": "code",
   "execution_count": null,
   "metadata": {},
   "outputs": [],
   "source": []
  },
  {
   "cell_type": "code",
   "execution_count": 1069,
   "metadata": {},
   "outputs": [
    {
     "name": "stdout",
     "output_type": "stream",
     "text": [
      "Fitting 3 folds for each of 100 candidates, totalling 300 fits\n"
     ]
    },
    {
     "name": "stderr",
     "output_type": "stream",
     "text": [
      "[Parallel(n_jobs=-1)]: Using backend LokyBackend with 8 concurrent workers.\n",
      "[Parallel(n_jobs=-1)]: Done  25 tasks      | elapsed:  4.8min\n",
      "[Parallel(n_jobs=-1)]: Done 146 tasks      | elapsed: 27.2min\n",
      "[Parallel(n_jobs=-1)]: Done 300 out of 300 | elapsed: 53.3min finished\n"
     ]
    },
    {
     "data": {
      "text/plain": [
       "RandomizedSearchCV(cv=3, error_score='raise-deprecating',\n",
       "                   estimator=RandomForestRegressor(bootstrap=True,\n",
       "                                                   criterion='mse',\n",
       "                                                   max_depth=None,\n",
       "                                                   max_features='auto',\n",
       "                                                   max_leaf_nodes=None,\n",
       "                                                   min_impurity_decrease=0.0,\n",
       "                                                   min_impurity_split=None,\n",
       "                                                   min_samples_leaf=1,\n",
       "                                                   min_samples_split=2,\n",
       "                                                   min_weight_fraction_leaf=0.0,\n",
       "                                                   n_estimators='warn',\n",
       "                                                   n_jobs=None, oob_score=False,\n",
       "                                                   random_sta...\n",
       "                   param_distributions={'bootstrap': [True, False],\n",
       "                                        'max_depth': [10, 20, 30, 40, 50, 60,\n",
       "                                                      70, 80, 90, 100, 110,\n",
       "                                                      None],\n",
       "                                        'max_features': ['log2', 'sqrt'],\n",
       "                                        'min_samples_leaf': [1, 2, 4],\n",
       "                                        'min_samples_split': [2, 5, 10],\n",
       "                                        'n_estimators': [200, 400, 600, 800,\n",
       "                                                         1000, 1200, 1400, 1600,\n",
       "                                                         1800, 2000]},\n",
       "                   pre_dispatch='2*n_jobs', random_state=42, refit=True,\n",
       "                   return_train_score=False, scoring=None, verbose=2)"
      ]
     },
     "execution_count": 1069,
     "metadata": {},
     "output_type": "execute_result"
    }
   ],
   "source": [
    "# Use the random grid to search for best hyperparameters\n",
    "# First create the base model to tune\n",
    "rf = RandomForestRegressor()\n",
    "# Random search of parameters, using 3 fold cross validation, \n",
    "# search across 100 different combinations, and use all available cores\n",
    "rf_random = RandomizedSearchCV(estimator = rf, param_distributions = random_grid, n_iter = 100, cv = 3, verbose=2, random_state=42, n_jobs = -1)\n",
    "# Fit the random search model\n",
    "rf_random.fit(x_train, y_train)"
   ]
  },
  {
   "cell_type": "code",
   "execution_count": 1070,
   "metadata": {
    "scrolled": true
   },
   "outputs": [
    {
     "data": {
      "text/plain": [
       "{'n_estimators': 1800,\n",
       " 'min_samples_split': 5,\n",
       " 'min_samples_leaf': 2,\n",
       " 'max_features': 'sqrt',\n",
       " 'max_depth': 60,\n",
       " 'bootstrap': True}"
      ]
     },
     "execution_count": 1070,
     "metadata": {},
     "output_type": "execute_result"
    }
   ],
   "source": [
    "rf_random.best_params_"
   ]
  },
  {
   "cell_type": "code",
   "execution_count": 1072,
   "metadata": {},
   "outputs": [
    {
     "name": "stdout",
     "output_type": "stream",
     "text": [
      "RMSE_train: 429.5581867176536 \n",
      "RMSE_test: 717.3343540614228 \n",
      "Train R^2: 0.81 \n",
      "Test  R^2: 0.45\n"
     ]
    }
   ],
   "source": [
    "    # Get predictions\n",
    "    \n",
    "\n",
    "y_pred = rf_random.predict(x_test)\n",
    "y_test_pred = rf_random.predict(x_train)\n",
    "\n",
    "RMSE_train = np.sqrt(mean_squared_error(y_train,y_test_pred))\n",
    "RMSE_test = np.sqrt(mean_squared_error(y_test,y_pred))\n",
    "R_train = round(rf_random.score(x_train, y_train),2)\n",
    "R_test = round(rf_random.score(x_test, y_test),2)\n",
    "\n",
    "print(\"RMSE_train:\",RMSE_train,\"\\nRMSE_test:\",RMSE_test,\"\\nTrain R^2:\",R_train,\"\\nTest  R^2:\",R_test)"
   ]
  },
  {
   "cell_type": "code",
   "execution_count": null,
   "metadata": {},
   "outputs": [],
   "source": []
  },
  {
   "cell_type": "code",
   "execution_count": null,
   "metadata": {},
   "outputs": [],
   "source": []
  },
  {
   "cell_type": "code",
   "execution_count": null,
   "metadata": {},
   "outputs": [],
   "source": []
  },
  {
   "cell_type": "code",
   "execution_count": null,
   "metadata": {},
   "outputs": [],
   "source": []
  },
  {
   "cell_type": "code",
   "execution_count": null,
   "metadata": {},
   "outputs": [],
   "source": []
  },
  {
   "cell_type": "code",
   "execution_count": null,
   "metadata": {},
   "outputs": [],
   "source": []
  },
  {
   "cell_type": "code",
   "execution_count": null,
   "metadata": {},
   "outputs": [],
   "source": []
  },
  {
   "cell_type": "code",
   "execution_count": null,
   "metadata": {},
   "outputs": [],
   "source": []
  }
 ],
 "metadata": {
  "kernelspec": {
   "display_name": "Python 3",
   "language": "python",
   "name": "python3"
  },
  "language_info": {
   "codemirror_mode": {
    "name": "ipython",
    "version": 3
   },
   "file_extension": ".py",
   "mimetype": "text/x-python",
   "name": "python",
   "nbconvert_exporter": "python",
   "pygments_lexer": "ipython3",
   "version": "3.7.4"
  }
 },
 "nbformat": 4,
 "nbformat_minor": 2
}
